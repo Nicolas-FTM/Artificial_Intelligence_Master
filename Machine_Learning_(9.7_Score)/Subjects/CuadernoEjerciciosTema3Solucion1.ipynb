{
 "cells": [
  {
   "cell_type": "markdown",
   "id": "03ea6786",
   "metadata": {},
   "source": [
    "# Tema 3: Evaluación de algoritmos de clasificación\n",
    "## Cuaderno de ejercicios"
   ]
  },
  {
   "cell_type": "markdown",
   "id": "986987d5",
   "metadata": {},
   "source": [
    "**Ejercicio 1**\n",
    "\n",
    "Supongamos que hemos utilizado un clasificador, por ejemplo, Naive Bayes, para clasificar documentos con respecto al sentimiento. Las clases son Pos (positivo), Neg (negativo) y Neu (neutro). Probamos nuestro clasificador en 10 documentos para los que conocemos su _gold standar_ (clase real). La prueba tiene los siguientes resultados:\n",
    "\n",
    "| Documento | Clase Real | Clase predicha |\n",
    "| ------------- | ------------- | ------------- |\n",
    "| d1  | Pos  | Pos |\n",
    "| d2  | Pos  | Pos |\n",
    "| d3  | Pos  | Pos |\n",
    "| d4  | Pos  | Neu |\n",
    "| d5  | Neg  | Neg |\n",
    "| d6  | Neg  | Neu |\n",
    "| d7  | Neg  | Neg |\n",
    "| d8  | Neu  | Pos |\n",
    "| d9  | Neu  | Neu |\n",
    "| d10  | Neu  | Neu |\n",
    "\n",
    "Calcular: precision, recall, accuracy y F1 para estos resultados de clasificación para las tres clases."
   ]
  },
  {
   "cell_type": "code",
   "execution_count": 11,
   "id": "ac70371b",
   "metadata": {},
   "outputs": [
    {
     "name": "stdout",
     "output_type": "stream",
     "text": [
      "   id Real Predicted\n",
      "0   1  Pos       Pos\n",
      "1   2  Pos       Pos\n",
      "2   3  Pos       Pos\n",
      "3   4  Pos       Neu\n",
      "4   5  Neg       Neg\n",
      "5   6  Neg       Neu\n",
      "6   7  Neg       Neg\n",
      "7   8  Neu       Pos\n",
      "8   9  Neu       Neu\n",
      "9  10  Neu       Neu\n"
     ]
    }
   ],
   "source": [
    "import pandas as pd\n",
    "\n",
    "datos = [[1,'Pos','Pos'],\n",
    "        [2,'Pos','Pos'],\n",
    "        [3,'Pos','Pos'],\n",
    "        [4,'Pos','Neu'],\n",
    "        [5,'Neg','Neg'],\n",
    "        [6,'Neg','Neu'],\n",
    "        [7,'Neg','Neg'],\n",
    "        [8,'Neu','Pos'],\n",
    "        [9,'Neu','Neu'],\n",
    "        [10,'Neu','Neu']]\n",
    "# el identificador de documento realmente no haría falta\n",
    "\n",
    "# definimos los nombres de las columnas\n",
    "columnas = ['id', 'Real', 'Predicted'] \n",
    "\n",
    "df = pd.DataFrame(datos, columns=columnas)\n",
    "\n",
    "print(df)"
   ]
  },
  {
   "cell_type": "code",
   "execution_count": 20,
   "id": "ad884354",
   "metadata": {},
   "outputs": [
    {
     "name": "stdout",
     "output_type": "stream",
     "text": [
      "Predicted  Neg  Neu  Pos\n",
      "Real                    \n",
      "Neg          2    1    0\n",
      "Neu          0    2    1\n",
      "Pos          0    1    3\n"
     ]
    }
   ],
   "source": [
    "# Utilizamos el metodo crosstab para crear la matriz de confusion\n",
    "confusion_matrix = pd.crosstab(df['Real'], df['Predicted'], rownames=['Real'], colnames=['Predicted'])\n",
    "print (confusion_matrix)"
   ]
  },
  {
   "cell_type": "code",
   "execution_count": 23,
   "id": "9a5e36e0",
   "metadata": {},
   "outputs": [
    {
     "name": "stdout",
     "output_type": "stream",
     "text": [
      "Precision clase positiva: 0.750\n",
      "Precision clase negativa: 1.000\n",
      "Precision clase neutra: 0.500\n"
     ]
    }
   ],
   "source": [
    "# precisión pos: TP verdaderos positivos / de todos los clasificados como positivos\n",
    "tp_pos = 3 ##Verdaderos positivos de la clase positiva\n",
    "fp_pos = 1 #Falsos positivos de la clase positiva\n",
    "precision_pos = tp_pos / (tp_pos+fp_pos)\n",
    "\n",
    "tp_neg = 2 \n",
    "fp_neg = 0\n",
    "precision_neg = tp_neg / (tp_neg+fp_neg)\n",
    "\n",
    "tp_neu = 2\n",
    "fp_neu = 2\n",
    "precision_neu = tp_neu / (tp_neu+fp_neu)\n",
    "\n",
    "print('Precision clase positiva: ' + \"{:.3f}\".format(precision_pos))\n",
    "print('Precision clase negativa: ' + \"{:.3f}\".format(precision_neg))\n",
    "print('Precision clase neutra: ' + \"{:.3f}\".format(precision_neu))"
   ]
  },
  {
   "cell_type": "code",
   "execution_count": 24,
   "id": "99d9e823",
   "metadata": {},
   "outputs": [
    {
     "name": "stdout",
     "output_type": "stream",
     "text": [
      "Recall clase positiva: 0.750\n",
      "recall clase negativa: 0.667\n",
      "recall clase neutra: 0.667\n"
     ]
    }
   ],
   "source": [
    "# recall: tp / (tp + fn) la capacidad de encontrar los correctos de entre todos los correctos\n",
    "tp_pos = 3\n",
    "fn_pos = 1\n",
    "recall_pos = tp_pos / (tp_pos+fn_pos)\n",
    "\n",
    "tp_neg = 2\n",
    "fn_neg = 1\n",
    "recall_neg = tp_neg /  (tp_neg+fn_neg)\n",
    "\n",
    "tp_neu = 2\n",
    "fn_neu = 1\n",
    "recall_neu = tp_neu /  (tp_neu+fn_neu)\n",
    "\n",
    "print('Recall clase positiva: ' + \"{:.3f}\".format(recall_pos))\n",
    "print('recall clase negativa: ' + \"{:.3f}\".format(recall_neg))\n",
    "print('recall clase neutra: ' + \"{:.3f}\".format(recall_neu))\n"
   ]
  },
  {
   "cell_type": "code",
   "execution_count": 25,
   "id": "2b843677",
   "metadata": {},
   "outputs": [
    {
     "name": "stdout",
     "output_type": "stream",
     "text": [
      "f1 clase positiva: 0.750\n",
      "f1 clase negativa: 0.800\n",
      "f1 clase neutra: 0.571\n"
     ]
    }
   ],
   "source": [
    "# f1, F1 Score = 2 * (Precision * Recall) / (Precision + Recall)\n",
    "\n",
    "f1_pos = 2 *(precision_pos * recall_pos) / (precision_pos + recall_pos)\n",
    "f1_neg = 2 *(precision_neg * recall_neg) / (precision_neg + recall_neg)\n",
    "f1_neu = 2 *(precision_neu * recall_neu) / (precision_neu + recall_neu)\n",
    "\n",
    "print('f1 clase positiva: ' + \"{:.3f}\".format(f1_pos))\n",
    "print('f1 clase negativa: ' + \"{:.3f}\".format(f1_neg))\n",
    "print('f1 clase neutra: ' + \"{:.3f}\".format(f1_neu))\n"
   ]
  },
  {
   "cell_type": "code",
   "execution_count": 30,
   "id": "f1bae9d9",
   "metadata": {},
   "outputs": [
    {
     "data": {
      "text/plain": [
       "(array([0.75, 1.  , 0.5 ]),\n",
       " array([0.75      , 0.66666667, 0.66666667]),\n",
       " array([0.75      , 0.8       , 0.57142857]),\n",
       " array([4, 3, 3], dtype=int64))"
      ]
     },
     "execution_count": 30,
     "metadata": {},
     "output_type": "execute_result"
    }
   ],
   "source": [
    "from sklearn.metrics import precision_recall_fscore_support\n",
    "\n",
    "precision_recall_fscore_support(df['Real'], df['Predicted'], average=None, \n",
    "                                labels=['Pos', 'Neg', 'Neu'])\n",
    "\n",
    "# returns precision recall f1 y support"
   ]
  },
  {
   "cell_type": "markdown",
   "id": "e2c06808",
   "metadata": {},
   "source": [
    "### otra manera de representar la matriz de confusion\n",
    "https://scikit-learn.org/stable/modules/generated/sklearn.metrics.multilabel_confusion_matrix.html#sklearn.metrics.multilabel_confusion_matrix\n",
    "multilabel_confusion_matrix(df['Real'], df['Predicted'],\n",
    "                             labels=[\"Neg\", \"Neu\", \"Pos\"])"
   ]
  },
  {
   "cell_type": "code",
   "execution_count": null,
   "id": "a5e2062c",
   "metadata": {},
   "outputs": [],
   "source": []
  },
  {
   "cell_type": "code",
   "execution_count": null,
   "id": "93d5f377",
   "metadata": {},
   "outputs": [],
   "source": []
  },
  {
   "cell_type": "code",
   "execution_count": 31,
   "id": "6ccc1d07",
   "metadata": {},
   "outputs": [],
   "source": [
    "from sklearn.metrics import recall_score\n",
    "from sklearn.metrics import multilabel_confusion_matrix\n",
    "\n",
    "\n",
    "recall = recall_score(df['Real'], df['Predicted'], labels=['Pos','Neg','Neu'], average=None)\n"
   ]
  },
  {
   "cell_type": "markdown",
   "id": "c5550a2b",
   "metadata": {},
   "source": [
    "**Ejercicio 2**\n",
    "\n",
    "Se evaluó un clasificador binario utilizando un conjunto de 1000 ejemplos de prueba (test) en los que el 50 % de todos los ejemplos son negativos. El clasificador tiene 60 % de sensitivity y 70 % de accuracy. Escribe la matriz de confusión."
   ]
  },
  {
   "cell_type": "code",
   "execution_count": 32,
   "id": "685b322e",
   "metadata": {},
   "outputs": [
    {
     "name": "stdout",
     "output_type": "stream",
     "text": [
      "300.0\n",
      "400.0\n",
      "100.0\n",
      "200.0\n"
     ]
    }
   ],
   "source": [
    "# Total ejemplos 1000\n",
    "total = 1000\n",
    "all_neg = 500\n",
    "recall = 0.6\n",
    "accuracy = 0.7\n",
    "\n",
    "all_pos = 500\n",
    "# all_neg = fp + tn\n",
    "# all_pos = tp + fn\n",
    "# recall = tp / (fn + tp) = 0.6 --> tp/500 = 0.6 -->\n",
    "tp = 0.6*500\n",
    "\n",
    "# acuraccy = (tp + tn) / all --> 0.7 = 300 + tn / 1000\n",
    "tn = (1000*0.7)-300\n",
    "\n",
    "fp = all_neg - tn\n",
    "fn = all_pos - tp\n",
    "\n",
    "print(tp)\n",
    "print(tn)\n",
    "print(fp)\n",
    "print(fn)"
   ]
  },
  {
   "cell_type": "markdown",
   "id": "98679afa",
   "metadata": {},
   "source": [
    "**Ejercicio 3**\n",
    "\n",
    "Utilizando la matriz de confusión creada en el ejercicio anterior, calcula la precisión del clasificador, la medida F1 y\n",
    "especificidad."
   ]
  },
  {
   "cell_type": "code",
   "execution_count": 33,
   "id": "4e923e4f",
   "metadata": {},
   "outputs": [
    {
     "name": "stdout",
     "output_type": "stream",
     "text": [
      "0.75\n",
      "0.6666666666666665\n",
      "0.8\n"
     ]
    }
   ],
   "source": [
    "precision = tp / (tp + fp)\n",
    "f1 = 2 *(precision * recall) / (precision + recall)\n",
    "especificidad = tn / (tn + fp)\n",
    "\n",
    "print(precision)\n",
    "print(f1)\n",
    "print(especificidad)"
   ]
  },
  {
   "cell_type": "code",
   "execution_count": null,
   "id": "9fc02e2e",
   "metadata": {},
   "outputs": [],
   "source": []
  }
 ],
 "metadata": {
  "kernelspec": {
   "display_name": "Python 3 (ipykernel)",
   "language": "python",
   "name": "python3"
  },
  "language_info": {
   "codemirror_mode": {
    "name": "ipython",
    "version": 3
   },
   "file_extension": ".py",
   "mimetype": "text/x-python",
   "name": "python",
   "nbconvert_exporter": "python",
   "pygments_lexer": "ipython3",
   "version": "3.10.4"
  }
 },
 "nbformat": 4,
 "nbformat_minor": 5
}
