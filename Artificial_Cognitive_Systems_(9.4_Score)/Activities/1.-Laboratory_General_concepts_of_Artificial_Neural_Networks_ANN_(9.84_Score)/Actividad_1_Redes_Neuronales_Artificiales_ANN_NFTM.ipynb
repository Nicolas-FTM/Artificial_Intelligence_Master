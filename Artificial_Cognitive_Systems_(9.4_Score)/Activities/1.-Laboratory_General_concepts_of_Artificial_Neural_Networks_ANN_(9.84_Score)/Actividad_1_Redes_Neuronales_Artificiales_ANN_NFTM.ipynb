{
 "cells": [
  {
   "cell_type": "markdown",
   "metadata": {
    "id": "iiDzBoKGwmMZ"
   },
   "source": [
    "# REDES NEURONALES\n",
    "\n",
    "---\n",
    "\n"
   ]
  },
  {
   "cell_type": "markdown",
   "metadata": {
    "id": "GeO2xVqBv1fx"
   },
   "source": [
    "## Introducción"
   ]
  },
  {
   "cell_type": "markdown",
   "metadata": {
    "id": "hhzeF2BVvvi7"
   },
   "source": [
    "\n",
    "\n",
    "En esta actividad vamos a utilizar una red neuronal para clasificar imágenes de prendas de ropa. Para ello, utilizaremos Keras con TensorFlow.\n",
    "\n",
    "El dataset a utilizar es Fashion MNIST, un problema sencillo con imágenes pequeñas de ropa, pero más interesante que el dataset de MNIST. Puedes consultar más información sobre el dataset en [este enlace](https://github.com/zalandoresearch/fashion-mnist).\n",
    "\n",
    "El código utilizado para contestar tiene que quedar claramente reflejado en el Notebook. Puedes crear nuevas celdas si así lo deseas para estructurar tu código y sus salidas. A la hora de entregar el notebook, **asegúrate de que los resultados de ejecutar tu código han quedado guardados**. Por ejemplo, a la hora de entrenar una red neuronal tiene que verse claramente un log de los resultados de cada epoch."
   ]
  },
  {
   "cell_type": "code",
   "execution_count": 29,
   "metadata": {
    "id": "gSHr268SwmMa"
   },
   "outputs": [],
   "source": [
    "import keras\n",
    "from keras.datasets import fashion_mnist\n",
    "from keras.models import Sequential\n",
    "from keras.layers import Dense\n",
    "from keras import initializers\n",
    "import tensorflow as tf\n",
    "import matplotlib.pyplot as plt\n",
    "import pandas as pd"
   ]
  },
  {
   "cell_type": "markdown",
   "metadata": {
    "id": "zScMKU2OKSPD"
   },
   "source": [
    "En primer lugar vamos a importar el dataset Fashion MNIST (recordad que este es uno de los dataset de entranamiento que estan guardados en keras) que es el que vamos a utilizar en esta actividad:"
   ]
  },
  {
   "cell_type": "code",
   "execution_count": 2,
   "metadata": {
    "id": "4voG2hxxG4h3"
   },
   "outputs": [],
   "source": [
    "mnist = fashion_mnist"
   ]
  },
  {
   "cell_type": "markdown",
   "metadata": {
    "id": "JphLsCvgKrzb"
   },
   "source": [
    "Llamar a **load_data** en este dataset nos dará dos conjuntos de dos listas, estos serán los valores de entrenamiento y prueba para los gráficos que contienen las prendas de vestir y sus etiquetas.\n",
    "\n",
    "Nota: Aunque en esta actividad lo veis de esta forma, también lo vais a poder encontrar como 4 variables de esta forma: training_images, training_labels, test_images, test_labels = mnist.load_data()"
   ]
  },
  {
   "cell_type": "code",
   "execution_count": 3,
   "metadata": {
    "colab": {
     "base_uri": "https://localhost:8080/"
    },
    "id": "1muD4PHEG4h6",
    "outputId": "2f6beb46-3176-4adf-a64b-6dab9ea81bbe"
   },
   "outputs": [],
   "source": [
    "(training_images, training_labels), (test_images, test_labels) = mnist.load_data()"
   ]
  },
  {
   "cell_type": "markdown",
   "metadata": {
    "id": "ZWGpJqVVLT3Y"
   },
   "source": [
    "Antes de continuar vamos a dar un vistazo a nuestro dataset, para ello vamos a ver una imagen de entrenamiento y su etiqueta o clase."
   ]
  },
  {
   "cell_type": "code",
   "execution_count": 4,
   "metadata": {
    "colab": {
     "base_uri": "https://localhost:8080/",
     "height": 785
    },
    "id": "t5a5PlswG4h8",
    "outputId": "2edeb68d-fcba-4f20-c49a-f80a5c51b012"
   },
   "outputs": [
    {
     "name": "stdout",
     "output_type": "stream",
     "text": [
      "9\n",
      "[[  0   0   0   0   0   0   0   0   0   0   0   0   0   0   0   0   0   0   0   0   0   0   0   0   0   0   0   0]\n",
      " [  0   0   0   0   0   0   0   0   0   0   0   0   0   0   0   0   0   0   0   0   0   0   0   0   0   0   0   0]\n",
      " [  0   0   0   0   0   0   0   0   0   0   0   0   0   0   0   0   0   0   0   0   0   0   0   0   0   0   0   0]\n",
      " [  0   0   0   0   0   0   0   0   0   0   0   0   1   0   0  13  73   0   0   1   4   0   0   0   0   1   1   0]\n",
      " [  0   0   0   0   0   0   0   0   0   0   0   0   3   0  36 136 127  62  54   0   0   0   1   3   4   0   0   3]\n",
      " [  0   0   0   0   0   0   0   0   0   0   0   0   6   0 102 204 176 134 144 123  23   0   0   0   0  12  10   0]\n",
      " [  0   0   0   0   0   0   0   0   0   0   0   0   0   0 155 236 207 178 107 156 161 109  64  23  77 130  72  15]\n",
      " [  0   0   0   0   0   0   0   0   0   0   0   1   0  69 207 223 218 216 216 163 127 121 122 146 141  88 172  66]\n",
      " [  0   0   0   0   0   0   0   0   0   1   1   1   0 200 232 232 233 229 223 223 215 213 164 127 123 196 229   0]\n",
      " [  0   0   0   0   0   0   0   0   0   0   0   0   0 183 225 216 223 228 235 227 224 222 224 221 223 245 173   0]\n",
      " [  0   0   0   0   0   0   0   0   0   0   0   0   0 193 228 218 213 198 180 212 210 211 213 223 220 243 202   0]\n",
      " [  0   0   0   0   0   0   0   0   0   1   3   0  12 219 220 212 218 192 169 227 208 218 224 212 226 197 209  52]\n",
      " [  0   0   0   0   0   0   0   0   0   0   6   0  99 244 222 220 218 203 198 221 215 213 222 220 245 119 167  56]\n",
      " [  0   0   0   0   0   0   0   0   0   4   0   0  55 236 228 230 228 240 232 213 218 223 234 217 217 209  92   0]\n",
      " [  0   0   1   4   6   7   2   0   0   0   0   0 237 226 217 223 222 219 222 221 216 223 229 215 218 255  77   0]\n",
      " [  0   3   0   0   0   0   0   0   0  62 145 204 228 207 213 221 218 208 211 218 224 223 219 215 224 244 159   0]\n",
      " [  0   0   0   0  18  44  82 107 189 228 220 222 217 226 200 205 211 230 224 234 176 188 250 248 233 238 215   0]\n",
      " [  0  57 187 208 224 221 224 208 204 214 208 209 200 159 245 193 206 223 255 255 221 234 221 211 220 232 246   0]\n",
      " [  3 202 228 224 221 211 211 214 205 205 205 220 240  80 150 255 229 221 188 154 191 210 204 209 222 228 225   0]\n",
      " [ 98 233 198 210 222 229 229 234 249 220 194 215 217 241  65  73 106 117 168 219 221 215 217 223 223 224 229  29]\n",
      " [ 75 204 212 204 193 205 211 225 216 185 197 206 198 213 240 195 227 245 239 223 218 212 209 222 220 221 230  67]\n",
      " [ 48 203 183 194 213 197 185 190 194 192 202 214 219 221 220 236 225 216 199 206 186 181 177 172 181 205 206 115]\n",
      " [  0 122 219 193 179 171 183 196 204 210 213 207 211 210 200 196 194 191 195 191 198 192 176 156 167 177 210  92]\n",
      " [  0   0  74 189 212 191 175 172 175 181 185 188 189 188 193 198 204 209 210 210 211 188 188 194 192 216 170   0]\n",
      " [  2   0   0   0  66 200 222 237 239 242 246 243 244 221 220 193 191 179 182 182 181 176 166 168  99  58   0   0]\n",
      " [  0   0   0   0   0   0   0  40  61  44  72  41  35   0   0   0   0   0   0   0   0   0   0   0   0   0   0   0]\n",
      " [  0   0   0   0   0   0   0   0   0   0   0   0   0   0   0   0   0   0   0   0   0   0   0   0   0   0   0   0]\n",
      " [  0   0   0   0   0   0   0   0   0   0   0   0   0   0   0   0   0   0   0   0   0   0   0   0   0   0   0   0]]\n"
     ]
    },
    {
     "data": {
      "image/png": "[encoded data removed]",
      "text/plain": [
       "<Figure size 640x480 with 1 Axes>"
      ]
     },
     "metadata": {},
     "output_type": "display_data"
    }
   ],
   "source": [
    "import numpy as np\n",
    "np.set_printoptions(linewidth=200)\n",
    "import matplotlib.pyplot as plt\n",
    "plt.imshow(training_images[0], cmap=\"gray\") # recordad que siempre es preferible trabajar en blanco y negro\n",
    "\n",
    "print(training_labels[0])\n",
    "print(training_images[0])"
   ]
  },
  {
   "cell_type": "markdown",
   "metadata": {
    "id": "WCJvZx3MLucY"
   },
   "source": [
    "Habréis notado que todos los valores numericos están entre 0 y 255. Si estamos entrenando una red neuronal, una buena practica es transformar todos los valores entre 0 y 1, un proceso llamado \"normalización\" y afortunadamente en Python es fácil normalizar una lista. Lo puedes hacer de esta manera:"
   ]
  },
  {
   "cell_type": "code",
   "execution_count": 5,
   "metadata": {
    "id": "tojL1BmjG4h_"
   },
   "outputs": [],
   "source": [
    "training_images  = training_images / 255.0\n",
    "test_images = test_images / 255.0"
   ]
  },
  {
   "cell_type": "markdown",
   "metadata": {
    "id": "BaqXlSMBwmMg"
   },
   "source": [
    "## 1. Información sobre el dataset"
   ]
  },
  {
   "cell_type": "markdown",
   "metadata": {
    "id": "e0aer8ZZwmMh"
   },
   "source": [
    "Una vez tenemos los datos cargados en memoria, vamos a obtener información sobre los mismos."
   ]
  },
  {
   "cell_type": "markdown",
   "metadata": {
    "id": "E-im9PnEwmMh"
   },
   "source": [
    "**Pregunta 1.1 *(0.25 puntos)*** ¿Cuántas imágenes hay de *training* y de *test*? ¿Qué tamaño tienen las imágenes?"
   ]
  },
  {
   "cell_type": "code",
   "execution_count": 6,
   "metadata": {
    "id": "lvP0Y4SCwmMi"
   },
   "outputs": [
    {
     "name": "stdout",
     "output_type": "stream",
     "text": [
      "* Número de imágenes de training que existen: 60000.\n",
      "* Número de imágenes de test que existen: 10000.\n",
      "* El tamaño de las imágenes es 28x28.\n"
     ]
    }
   ],
   "source": [
    "print(\"* Número de imágenes de training que existen: {}.\".format(len(training_images)))\n",
    "print(\"* Número de imágenes de test que existen: {}.\".format(len(test_images)))\n",
    "print(\"* El tamaño de las imágenes es {}x{}.\".format(training_images[0].shape[0], training_images[0].shape[0]))"
   ]
  },
  {
   "cell_type": "markdown",
   "metadata": {},
   "source": [
    "Se ha usado las variables training_images y test_images que son las variables que representan las imágenes que se usarán para ajustar y evaluar el modelo de red neuronal. Las variables training_images y test_images son arrays tridimensionales <x,y,z> que contienen en la primera posición (x) la imagen asociada a los pixeles en la segunda y tercera posición (y,z). \n",
    "\n",
    "Sería similar a tener una lista de 60000 posiciones, donde cada elemento es un pixel en una matriz bidimensional de tamaño 28x28."
   ]
  },
  {
   "cell_type": "markdown",
   "metadata": {
    "id": "F2LsvfHOwmMk"
   },
   "source": [
    "**Pregunta 1.2 *(0.25 puntos)*** Realizar una exploración de las variables que contienen los datos. Describir en qué consiste un example del dataset (qué información se guarda en cada imagen) y describir qué contiene la información en y."
   ]
  },
  {
   "cell_type": "code",
   "execution_count": 7,
   "metadata": {
    "id": "3W5rzaGxwmMk"
   },
   "outputs": [
    {
     "name": "stdout",
     "output_type": "stream",
     "text": [
      "<class 'numpy.ndarray'> (60000, 28, 28) (28, 28) 0.0\n",
      "[0, 1, 2, 3, 4, 5, 6, 7, 8, 9]\n"
     ]
    },
    {
     "data": {
      "text/plain": [
       "<matplotlib.image.AxesImage at 0x261426a5910>"
      ]
     },
     "execution_count": 7,
     "metadata": {},
     "output_type": "execute_result"
    },
    {
     "data": {
      "image/png": "[encoded data removed]",
      "text/plain": [
       "<Figure size 640x480 with 1 Axes>"
      ]
     },
     "metadata": {},
     "output_type": "display_data"
    }
   ],
   "source": [
    "print(type(training_images), training_images.shape, training_images[0].shape, training_images[0,0,0])\n",
    "print(list(set(training_labels)))\n",
    "plt.imshow(training_images[0], cmap=\"gray\") # recordad que siempre es preferible trabajar en blanco y negro"
   ]
  },
  {
   "cell_type": "markdown",
   "metadata": {
    "id": "zaEWKFyvwmMm"
   },
   "source": [
    "La respuesta es similar a la anterior. Aquí es importante agregar que la imagen está normalizada ya que nos dan la imagen en 8 bits de profundidad, yendo el valor de los píxeles entre 0 y 255. Por último, interpretamos y como el conjunto de test y las etiquetas asociadas a que imagen es, por lo que contiene lo mismo, es decir, un array tridimensional que en cada posición se guarda la imagen, y un array que relaciona la imagen con la etiqueta correspondiente por orden:\n",
    "\n",
    "\"T-shirt/top\", \"Trouser\", \"Pullover\", \"Dress\", \"Coat\", \"Sandal\", \"Shirt', \"Sneaker\", \"Bap\", \"Ankle boot\""
   ]
  },
  {
   "cell_type": "markdown",
   "metadata": {
    "id": "dI3IAhOQ8zHi"
   },
   "source": [
    "## 2. Creación del Modelo"
   ]
  },
  {
   "cell_type": "markdown",
   "metadata": {
    "id": "yYUWWsszMAKt"
   },
   "source": [
    "Ahora vamos a definir el modelo, pero antes vamos a repasar algunos comandos y conceptos muy útiles:\n",
    "* **Sequential**: Eso define una SECUENCIA de capas en la red neuronal\n",
    "* **Dense**: Añade una capa de neuronas\n",
    "* **Flatten**: ¿Recuerdas cómo eran las imágenes cuando las imprimiste para poder verlas? Un cuadrado, Flatten toma ese cuadrado y lo convierte en un vector de una dimensión.\n",
    "\n",
    "Cada capa de neuronas necesita una función de activación. Normalmente se usa la función relu en las capas intermedias y softmax en la ultima capa (en problemas de clasificación de más de dos items)\n",
    "* **Relu** significa que \"Si X>0 devuelve X, si no, devuelve 0\", así que lo que hace es pasar sólo valores 0 o mayores a la siguiente capa de la red.\n",
    "* **Softmax** toma un conjunto de valores, y escoge el más grande."
   ]
  },
  {
   "cell_type": "markdown",
   "metadata": {
    "id": "QgBW1yE2MwPp"
   },
   "source": [
    " **Pregunta 2.1 (2 puntos)**. Utilizando Keras, y preparando los datos de X e y como fuera necesario, define y entrena una red neuronal que sea capaz de clasificar imágenes de Fashion MNIST con las siguientes características:\n",
    "\n",
    "* Una hidden layer de tamaños 128, utilizando unidades sigmoid\n",
    "Optimizador Adam.\n",
    "* Durante el entrenamiento, la red tiene que mostrar resultados de loss y accuracy por cada epoch.\n",
    "* La red debe entrenar durante 10 epochs y batch size de 64.\n",
    "* La última capa debe de ser una capa softmax.\n",
    "* Tu red tendría que ser capaz de superar fácilmente 80% de accuracy."
   ]
  },
  {
   "cell_type": "code",
   "execution_count": 8,
   "metadata": {
    "id": "aTaD2QXIORwu"
   },
   "outputs": [
    {
     "name": "stdout",
     "output_type": "stream",
     "text": [
      "Epoch 1/10\n",
      "1875/1875 [==============================] - 2s 1ms/step - loss: 0.5424 - accuracy: 0.8152 - val_loss: 0.4790 - val_accuracy: 0.8300\n",
      "Epoch 2/10\n",
      "1875/1875 [==============================] - 1s 561us/step - loss: 0.3913 - accuracy: 0.8587 - val_loss: 0.4177 - val_accuracy: 0.8542\n",
      "Epoch 3/10\n",
      "1875/1875 [==============================] - 1s 574us/step - loss: 0.3550 - accuracy: 0.8706 - val_loss: 0.3812 - val_accuracy: 0.8626\n",
      "Epoch 4/10\n",
      "1875/1875 [==============================] - 1s 562us/step - loss: 0.3320 - accuracy: 0.8792 - val_loss: 0.3636 - val_accuracy: 0.8683\n",
      "Epoch 5/10\n",
      "1875/1875 [==============================] - 1s 594us/step - loss: 0.3134 - accuracy: 0.8853 - val_loss: 0.3780 - val_accuracy: 0.8621\n",
      "Epoch 6/10\n",
      "1875/1875 [==============================] - 1s 583us/step - loss: 0.2975 - accuracy: 0.8914 - val_loss: 0.3561 - val_accuracy: 0.8720\n",
      "Epoch 7/10\n",
      "1875/1875 [==============================] - 1s 586us/step - loss: 0.2846 - accuracy: 0.8955 - val_loss: 0.3376 - val_accuracy: 0.8781\n",
      "Epoch 8/10\n",
      "1875/1875 [==============================] - 1s 577us/step - loss: 0.2728 - accuracy: 0.9001 - val_loss: 0.3361 - val_accuracy: 0.8743\n",
      "Epoch 9/10\n",
      "1875/1875 [==============================] - 1s 594us/step - loss: 0.2630 - accuracy: 0.9037 - val_loss: 0.3363 - val_accuracy: 0.8761\n",
      "Epoch 10/10\n",
      "1875/1875 [==============================] - 1s 583us/step - loss: 0.2532 - accuracy: 0.9063 - val_loss: 0.3290 - val_accuracy: 0.8810\n"
     ]
    }
   ],
   "source": [
    "###########################################\n",
    "# Parametros\n",
    "###########################################\n",
    "\n",
    "# Tamaño de cada imagen\n",
    "sz_image = [28,28]\n",
    "\n",
    "# Numero de neuronas en la capa oculta\n",
    "sz_hid_layer = 128\n",
    "\n",
    "# Funcion de activacion de la capa oculta\n",
    "fun_hid_layer = \"sigmoid\"\n",
    "\n",
    "# Funcion de optimizacion\n",
    "opt = \"Adam\"\n",
    "\n",
    "# Iteraciones del entrenamiento de la red neuronal\n",
    "ep = 10\n",
    "\n",
    "# Tamaño del lote\n",
    "sz_batch = 64\n",
    "\n",
    "# Funcion de activación en la salida\n",
    "fun_output_layer = \"softmax\"\n",
    "\n",
    "# Tipos distintos de tags que clasifican las imagenes\n",
    "tags = len(list(set(training_labels)))\n",
    "\n",
    "# Metricas\n",
    "metr = [\"accuracy\"] \n",
    "\n",
    "\n",
    "\n",
    "###########################################\n",
    "# Creacion del Modelo\n",
    "###########################################\n",
    "\n",
    "# Creamos el modelo de Red Neuronal secuencial\n",
    "model = keras.models.Sequential()\n",
    "\n",
    "# Creamos la capa de entrada\n",
    "model.add(keras.layers.Flatten(input_shape = sz_image))\n",
    "\n",
    "# Creamos una única capa oculta con 128 neuronas\n",
    "model.add(keras.layers.Dense(sz_hid_layer, activation = fun_hid_layer))\n",
    "\n",
    "# Creamos la capa de salida\n",
    "model.add(keras.layers.Dense(tags, activation = fun_output_layer))\n",
    "\n",
    "# Modificamos los parámetros del modelo\n",
    "model.compile(loss=\"sparse_categorical_crossentropy\", optimizer = opt, metrics = metr, steps_per_execution = sz_batch)\n",
    "\n",
    "\n",
    "\n",
    "###########################################\n",
    "# Ajuste del Modelo\n",
    "###########################################\n",
    "\n",
    "adj_model = model.fit(training_images, training_labels, epochs = ep, validation_data=(test_images, test_labels))"
   ]
  },
  {
   "cell_type": "markdown",
   "metadata": {
    "id": "Bxr5hTKYOQnK"
   },
   "source": [
    "Para concluir el entrenamiento de la red neuronal, una buena práctica es evaluar el modelo para ver si la precisión de entrenamiento es real\n",
    "\n",
    "**pregunta 2.2 (0.5 puntos)**: Evalúa el modelo con las imágenes y etiquetas test."
   ]
  },
  {
   "cell_type": "code",
   "execution_count": 9,
   "metadata": {
    "id": "VNjQEtUUG4iI"
   },
   "outputs": [
    {
     "data": {
      "image/png": "[encoded data removed]",
      "text/plain": [
       "<Figure size 800x500 with 1 Axes>"
      ]
     },
     "metadata": {},
     "output_type": "display_data"
    }
   ],
   "source": [
    "# Primero vemos como ha mejorado el modelo durante el entrenamiento\n",
    "pd.DataFrame(adj_model.history).plot(figsize = (8,5))\n",
    "plt.grid(True)\n",
    "plt.gca().set_ylim(0,1)\n",
    "plt.show()"
   ]
  },
  {
   "cell_type": "code",
   "execution_count": 10,
   "metadata": {},
   "outputs": [
    {
     "name": "stdout",
     "output_type": "stream",
     "text": [
      "313/313 [==============================] - 0s 288us/step - loss: 0.3290 - accuracy: 0.8810\n",
      "313/313 [==============================] - 0s 665us/step\n",
      "=====================================================================\n",
      "La etiqueta de la imagen es: 4 y el algoritmo lo clasifica como: 6\n"
     ]
    },
    {
     "data": {
      "text/plain": [
       "<matplotlib.image.AxesImage at 0x261413ff310>"
      ]
     },
     "execution_count": 10,
     "metadata": {},
     "output_type": "execute_result"
    },
    {
     "data": {
      "image/png": "[encoded data removed]",
      "text/plain": [
       "<Figure size 640x480 with 1 Axes>"
      ]
     },
     "metadata": {},
     "output_type": "display_data"
    }
   ],
   "source": [
    "# Evaluamos el modelo según los valores test que nos proporcionan\n",
    "model.evaluate(test_images, test_labels)\n",
    "\n",
    "# Podemos probar aleatoriamente uno de las imagenes de los test y ver si se obtienen lo mismo\n",
    "rd = int( np.random.randint(low=0, high=test_images.shape[0]-1, size=1, dtype=int) )\n",
    "\n",
    "# Guardamos la prediccion de la etiqueta\n",
    "tag_pr = model.predict(test_images)[rd].argmax()\n",
    "\n",
    "print(\"=====================================================================\")\n",
    "print(\"La etiqueta de la imagen es: {} y el algoritmo lo clasifica como: {}\".format(test_labels[rd], tag_pr))\n",
    "plt.imshow(test_images[rd], cmap=\"gray\") "
   ]
  },
  {
   "cell_type": "markdown",
   "metadata": {
    "id": "ygMVnmSYO83U"
   },
   "source": [
    "\n",
    "## 3: Funcionamiento de las predicción de la red neuronal\n",
    "\n"
   ]
  },
  {
   "cell_type": "markdown",
   "metadata": {
    "id": "lMa-GR0Kvcqh"
   },
   "source": [
    "Ahora vamos a explorar el código con una serie de ejercicios para alcanzar un grado de comprensión mayor sobre las redes neuronales y su entrenamiento.\n",
    "\n",
    "Sigue los siguientes pasos: \n",
    "\n",
    "* Crea una variable llamada **classifications** para construir un clasificador con las imágenes de prueba, para ello puedes utilizar la función predict sobre el conjunto de test\n",
    "* Imprime con la función print la primera entrada en las clasificaciones. \n",
    "\n",
    "**pregunta 3.1 (0.25 puntos)**, el resultado al imprimirlo es un vector de números, \n",
    "* ¿Por qué crees que ocurre esto? ¿Qué representa este vector de números?\n",
    "\n",
    "**pregunta 3.2 (0.25 puntos)**\n",
    "* ¿Cúal es la clase de la primera entrada de la variable **classifications**? La respuesta puede ser un número o su etiqueta/clase equivalente."
   ]
  },
  {
   "cell_type": "code",
   "execution_count": 11,
   "metadata": {
    "id": "b-mL-h4xQhCm"
   },
   "outputs": [
    {
     "name": "stdout",
     "output_type": "stream",
     "text": [
      "313/313 [==============================] - 0s 249us/step\n",
      "[4.7505996e-06 7.1268097e-08 8.3327245e-07 1.1647826e-05 4.5787697e-06 1.3935639e-02 4.7228477e-05 2.2606285e-02 3.6410169e-05 9.6335256e-01] 9\n"
     ]
    }
   ],
   "source": [
    "classifications = model.predict(test_images)\n",
    "print(classifications[0], classifications[0].argmax())"
   ]
  },
  {
   "cell_type": "markdown",
   "metadata": {
    "id": "pvbVC9gaQhMY"
   },
   "source": [
    "<b>Respuesta a la pregunta 3.1:</b>\n",
    "Lo que nos imprime son las salidas de las neuronas de output. Esto nos indica que valor es más probable que sea con respecto a la clase equivalente por orden."
   ]
  },
  {
   "cell_type": "markdown",
   "metadata": {
    "id": "oRWo-75tdgv0"
   },
   "source": [
    "<b>Respuesta a la pregunta 3.2:</b>\n",
    "La clase nos la indica la posicion del elemento mayor del array. En este caso, el elemento que mayor valor tiene está localizado en la posición 9, por lo que la clase predicha es la 9."
   ]
  },
  {
   "cell_type": "markdown",
   "metadata": {
    "id": "hiQ8qAzhRQ4L"
   },
   "source": [
    "## 4: Impacto variar el número de neuronas en las capas ocultas\n",
    "\n",
    "\n",
    "\n"
   ]
  },
  {
   "cell_type": "markdown",
   "metadata": {
    "id": "Lsqive4ivMF9"
   },
   "source": [
    "En este ejercicio vamos a experimentar con nuestra red neuronal cambiando el numero de neuronas por 512 y por 1024. Para ello, utiliza la red neuronal de la pregunta 1, y en su capa oculta cambia las 128 neuronas por:\n",
    "\n",
    "* **512 neuronas en la capa oculta\n",
    "* **1024 neuronas en la capa oculta\n",
    "\n",
    "Entrena la red en ambos casos."
   ]
  },
  {
   "cell_type": "code",
   "execution_count": 16,
   "metadata": {
    "id": "cdP8ZwuaUV93"
   },
   "outputs": [
    {
     "name": "stdout",
     "output_type": "stream",
     "text": [
      "Epoch 1/10\n",
      "1875/1875 [==============================] - 7s 4ms/step - loss: 0.5026 - accuracy: 0.8225 - val_loss: 0.4537 - val_accuracy: 0.8360\n",
      "Epoch 2/10\n",
      "1875/1875 [==============================] - 6s 3ms/step - loss: 0.3852 - accuracy: 0.8586 - val_loss: 0.4157 - val_accuracy: 0.8501\n",
      "Epoch 3/10\n",
      "1875/1875 [==============================] - 6s 3ms/step - loss: 0.3414 - accuracy: 0.8746 - val_loss: 0.3613 - val_accuracy: 0.8697\n",
      "Epoch 4/10\n",
      "1875/1875 [==============================] - 6s 3ms/step - loss: 0.3151 - accuracy: 0.8837 - val_loss: 0.3554 - val_accuracy: 0.8703\n",
      "Epoch 5/10\n",
      "1875/1875 [==============================] - 6s 3ms/step - loss: 0.2925 - accuracy: 0.8906 - val_loss: 0.3470 - val_accuracy: 0.8747\n",
      "Epoch 6/10\n",
      "1875/1875 [==============================] - 6s 3ms/step - loss: 0.2757 - accuracy: 0.8975 - val_loss: 0.3335 - val_accuracy: 0.8818\n",
      "Epoch 7/10\n",
      "1875/1875 [==============================] - 6s 3ms/step - loss: 0.2590 - accuracy: 0.9032 - val_loss: 0.3344 - val_accuracy: 0.8769\n",
      "Epoch 8/10\n",
      "1875/1875 [==============================] - 6s 3ms/step - loss: 0.2464 - accuracy: 0.9074 - val_loss: 0.3343 - val_accuracy: 0.8796\n",
      "Epoch 9/10\n",
      "1875/1875 [==============================] - 6s 3ms/step - loss: 0.2340 - accuracy: 0.9112 - val_loss: 0.3312 - val_accuracy: 0.8783\n",
      "Epoch 10/10\n",
      "1875/1875 [==============================] - 6s 3ms/step - loss: 0.2226 - accuracy: 0.9167 - val_loss: 0.3271 - val_accuracy: 0.8850\n",
      "============================================================\n",
      "313/313 [==============================] - 0s 681us/step - loss: 0.3271 - accuracy: 0.8850\n",
      "\n",
      "El accuracy de este modelo al evaluarlo es: 0.8849999904632568 \n"
     ]
    }
   ],
   "source": [
    "###########################################\n",
    "# Creacion del Modelo\n",
    "###########################################\n",
    "\n",
    "# Creamos el modelo de Red Neuronal secuencial\n",
    "model2 = keras.models.Sequential()\n",
    "\n",
    "# Creamos la capa de entrada\n",
    "model2.add(keras.layers.Flatten(input_shape = sz_image))\n",
    "\n",
    "# Creamos una única capa oculta con 512 neuronas\n",
    "model2.add(keras.layers.Dense(512, activation = fun_hid_layer))\n",
    "\n",
    "# Creamos la capa de salida\n",
    "model2.add(keras.layers.Dense(tags, activation = fun_output_layer))\n",
    "\n",
    "# Modificamos los parámetros del modelo\n",
    "model2.compile(loss=\"sparse_categorical_crossentropy\", optimizer = opt, metrics = metr, steps_per_execution = sz_batch)\n",
    "\n",
    "###########################################\n",
    "# Ajuste del Modelo\n",
    "###########################################\n",
    "\n",
    "adj_model2 = model2.fit(training_images, training_labels, epochs = ep, validation_data=(test_images, test_labels))\n",
    "\n",
    "###########################################\n",
    "# Evaluacion del Modelo\n",
    "###########################################\n",
    "\n",
    "print(\"============================================================\")\n",
    "\n",
    "# Evaluamos el modelo según los valores test que nos proporcionan\n",
    "print(\"\\nEl accuracy de este modelo al evaluarlo es: {} \".format(model2.evaluate(test_images, test_labels)[1]))"
   ]
  },
  {
   "cell_type": "code",
   "execution_count": 17,
   "metadata": {
    "id": "YXBlbbfuUaPa"
   },
   "outputs": [
    {
     "name": "stdout",
     "output_type": "stream",
     "text": [
      "Epoch 1/10\n",
      "1875/1875 [==============================] - 13s 7ms/step - loss: 0.5025 - accuracy: 0.8189 - val_loss: 0.4384 - val_accuracy: 0.8422\n",
      "Epoch 2/10\n",
      "1875/1875 [==============================] - 12s 6ms/step - loss: 0.3852 - accuracy: 0.8590 - val_loss: 0.3984 - val_accuracy: 0.8547\n",
      "Epoch 3/10\n",
      "1875/1875 [==============================] - 12s 6ms/step - loss: 0.3421 - accuracy: 0.8731 - val_loss: 0.3775 - val_accuracy: 0.8663\n",
      "Epoch 4/10\n",
      "1875/1875 [==============================] - 12s 6ms/step - loss: 0.3108 - accuracy: 0.8844 - val_loss: 0.3493 - val_accuracy: 0.8735\n",
      "Epoch 5/10\n",
      "1875/1875 [==============================] - 12s 6ms/step - loss: 0.2887 - accuracy: 0.8921 - val_loss: 0.3446 - val_accuracy: 0.8734\n",
      "Epoch 6/10\n",
      "1875/1875 [==============================] - 12s 6ms/step - loss: 0.2690 - accuracy: 0.8989 - val_loss: 0.3348 - val_accuracy: 0.8824\n",
      "Epoch 7/10\n",
      "1875/1875 [==============================] - 12s 6ms/step - loss: 0.2527 - accuracy: 0.9051 - val_loss: 0.3276 - val_accuracy: 0.8848\n",
      "Epoch 8/10\n",
      "1875/1875 [==============================] - 12s 6ms/step - loss: 0.2386 - accuracy: 0.9094 - val_loss: 0.3224 - val_accuracy: 0.8854\n",
      "Epoch 9/10\n",
      "1875/1875 [==============================] - 12s 6ms/step - loss: 0.2250 - accuracy: 0.9146 - val_loss: 0.3307 - val_accuracy: 0.8854\n",
      "Epoch 10/10\n",
      "1875/1875 [==============================] - 12s 6ms/step - loss: 0.2141 - accuracy: 0.9190 - val_loss: 0.3161 - val_accuracy: 0.8919\n",
      "============================================================\n",
      "313/313 [==============================] - 0s 1ms/step - loss: 0.3161 - accuracy: 0.8919\n",
      "\n",
      "El accuracy de este modelo al evaluarlo es: 0.8919000029563904 \n"
     ]
    }
   ],
   "source": [
    "###########################################\n",
    "# Creacion del Modelo\n",
    "###########################################\n",
    "\n",
    "# Creamos el modelo de Red Neuronal secuencial\n",
    "model3 = keras.models.Sequential()\n",
    "\n",
    "# Creamos la capa de entrada\n",
    "model3.add(keras.layers.Flatten(input_shape = sz_image))\n",
    "\n",
    "# Creamos una única capa oculta con 1024 neuronas\n",
    "model3.add(keras.layers.Dense(1024, activation = fun_hid_layer))\n",
    "\n",
    "# Creamos la capa de salida\n",
    "model3.add(keras.layers.Dense(tags, activation = fun_output_layer))\n",
    "\n",
    "# Modificamos los parámetros del modelo\n",
    "model3.compile(loss=\"sparse_categorical_crossentropy\", optimizer = opt, metrics = metr, steps_per_execution = sz_batch)\n",
    "\n",
    "###########################################\n",
    "# Ajuste del Modelo\n",
    "###########################################\n",
    "\n",
    "adj_model3 = model3.fit(training_images, training_labels, epochs = ep, validation_data=(test_images, test_labels))\n",
    "\n",
    "###########################################\n",
    "# Evaluacion del Modelo\n",
    "###########################################\n",
    "\n",
    "print(\"============================================================\")\n",
    "\n",
    "# Evaluamos el modelo según los valores test que nos proporcionan\n",
    "print(\"\\nEl accuracy de este modelo al evaluarlo es: {} \".format(model3.evaluate(test_images, test_labels)[1]))"
   ]
  },
  {
   "cell_type": "markdown",
   "metadata": {
    "id": "wG0h2HL-Uj93"
   },
   "source": [
    "**pregunta 4.1 (0.5 puntos)**: ¿Cuál es el impacto que tiene la red neuronal? "
   ]
  },
  {
   "cell_type": "markdown",
   "metadata": {
    "id": "AkZYq4xBvnrS"
   },
   "source": [
    "Pues los principales cambios serían:\n",
    "* Aumento de tiempo por cada época.\n",
    "* Aumento del accuracy y descenso de la función de perdida que mejora nuestra predicción, pero que puede llevar a un sobreajuste no deseado-"
   ]
  },
  {
   "cell_type": "markdown",
   "metadata": {
    "id": "b-NpUI9EVkVz"
   },
   "source": [
    "Si ahora entrenais el modelo de esta forma (con 512 y 1024 neuronas en la capa oculta) y volveis a ejecutar el predictor guardado en la variable **classifications**, escribir el código del clasificador del ejercicio 1 de nuevo e imprimid el primer objeto guardado en la variable classifications.\n",
    "\n",
    "**pregunta 4.2 (0.25 puntos)**: \n",
    "\n",
    "* ¿En qué clase está clasificado ahora la primera prenda de vestir de la variable classifications?\n",
    "\n",
    "**pregunta 4.3 (0.25 puntos)**: \n",
    "\n",
    "* ¿Por qué crees que ha ocurrido esto?"
   ]
  },
  {
   "cell_type": "code",
   "execution_count": 18,
   "metadata": {
    "id": "RdJHl3V-G4iS"
   },
   "outputs": [
    {
     "name": "stdout",
     "output_type": "stream",
     "text": [
      "313/313 [==============================] - 0s 914us/step\n",
      "313/313 [==============================] - 0s 1ms/step\n",
      "Clasificación del modelo de 128 neuronas: 9, del modelo de 512 neuronas: 9 y del modelo de 1024 neuronas: 9\n"
     ]
    }
   ],
   "source": [
    "classifications2 = model2.predict(test_images)\n",
    "classifications3 = model3.predict(test_images)\n",
    "\n",
    "print(\"Clasificación del modelo de 128 neuronas: {}, del modelo de 512 neuronas: {} y del modelo de 1024 neuronas: {}\".format(classifications[0].argmax(), classifications2[0].argmax(), classifications3[0].argmax()))"
   ]
  },
  {
   "cell_type": "markdown",
   "metadata": {
    "id": "P3NfwdOGZcAa"
   },
   "source": [
    "<b>Respuesta a la pregunta 4.2:</b>\n",
    "Suponiendo que la pregunta se refiere a la posicion 0 cuando se refiere al primer elemento, los tres modelos clasifican igual, es decir, la etiqueta 9."
   ]
  },
  {
   "cell_type": "markdown",
   "metadata": {
    "id": "nFmfpxE1ZcJx"
   },
   "source": [
    "<b>Respuesta a la pregunta 4.3:</b>\n",
    "Porque se ha mejorado el accuracy en los modelos progresivamente añadiendo más neuronas conforme se ha añadido "
   ]
  },
  {
   "cell_type": "markdown",
   "metadata": {
    "id": "59eM76O1YekZ"
   },
   "source": [
    "## 5: Capa Flatten\n",
    "\n",
    "\n"
   ]
  },
  {
   "cell_type": "markdown",
   "metadata": {
    "id": "a6LGnSxBu-ww"
   },
   "source": [
    "En este ejercicio vamos a ver que ocurre cuando quitamos la capa flatten, para ello, escribe la red neuronal de la pregunta 1 y no pongas la capa Flatten.\n",
    "\n",
    "**pregunta 5 (0.5 puntos):** ¿Puedes explicar a qué se debe el error que da?"
   ]
  },
  {
   "cell_type": "code",
   "execution_count": 19,
   "metadata": {
    "id": "ecfEVKEuG4iU"
   },
   "outputs": [
    {
     "name": "stdout",
     "output_type": "stream",
     "text": [
      "Epoch 1/10\n",
      "Error\n"
     ]
    }
   ],
   "source": [
    "try:\n",
    "        ###########################################\n",
    "        # Creacion del Modelo\n",
    "        ###########################################\n",
    "\n",
    "        # Creamos el modelo de Red Neuronal secuencial\n",
    "        model4 = keras.models.Sequential()\n",
    "\n",
    "        # Creamos una única capa oculta con 128 neuronas\n",
    "        model4.add(keras.layers.Dense(sz_hid_layer, activation = fun_hid_layer))\n",
    "\n",
    "        # Creamos la capa de salida\n",
    "        model4.add(keras.layers.Dense(tags, activation = fun_output_layer))\n",
    "\n",
    "        # Modificamos los parámetros del modelo\n",
    "        model4.compile(loss=\"sparse_categorical_crossentropy\", optimizer = opt, metrics = metr, steps_per_execution = sz_batch)\n",
    "\n",
    "\n",
    "\n",
    "        ###########################################\n",
    "        # Ajuste del Modelo\n",
    "        ###########################################\n",
    "\n",
    "        adj_model4 = model4.fit(training_images, training_labels, epochs = ep, validation_data=(test_images, test_labels))\n",
    "        \n",
    "        ###########################################\n",
    "        # Evaluacion del Modelo\n",
    "        ###########################################\n",
    "\n",
    "        print(\"============================================================\")\n",
    "\n",
    "        # Evaluamos el modelo según los valores test que nos proporcionan\n",
    "        print(\"\\nEl accuracy de este modelo al evaluarlo es: {} \".format(model4.evaluate(test_images, test_labels)[1]))\n",
    "        \n",
    "except:\n",
    "        print(\"Error\")"
   ]
  },
  {
   "cell_type": "markdown",
   "metadata": {
    "id": "-aNmrkkOZN6D"
   },
   "source": [
    "<b>Respuesta a la pregunta 5:</b>\n",
    "El modelo lanza un error ya que no coincide los tamaños de la entrada con lo que se quiere conseguir ya que la funcion flatten convierte la entrada a un vector de 1x(28x28)"
   ]
  },
  {
   "cell_type": "markdown",
   "metadata": {
    "id": "f37cIr81ZYJj"
   },
   "source": [
    "## 6: Número de neuronas de la capa de salida\n"
   ]
  },
  {
   "cell_type": "markdown",
   "metadata": {
    "id": "Zk1xYVAQu0wN"
   },
   "source": [
    "Considerad la capa final, la de salida de la red neuronal de la pregunta 1.\n",
    "\n",
    "**pregunta 6.1 (0.25 puntos)**: ¿Por qué son 10 las neuronas de la última capa?\n",
    "\n",
    "**pregunta 6.2 (0.25 puntos)**: ¿Qué pasaría si tuvieras una cantidad diferente a 10? \n",
    "\n",
    "Por ejemplo, intenta entrenar la red con 5, para ello utiliza la red neuronal de la pregunta 1 y cambia a 5 el número de neuronas en la última capa."
   ]
  },
  {
   "cell_type": "code",
   "execution_count": 20,
   "metadata": {
    "id": "FhbZkppYZOCS"
   },
   "outputs": [
    {
     "name": "stdout",
     "output_type": "stream",
     "text": [
      "Epoch 1/10\n",
      "Error\n"
     ]
    }
   ],
   "source": [
    "try:\n",
    "    \n",
    "    ###########################################\n",
    "    # Creacion del Modelo\n",
    "    ###########################################\n",
    "\n",
    "    # Creamos el modelo de Red Neuronal secuencial\n",
    "    model5 = keras.models.Sequential()\n",
    "\n",
    "    # Creamos la capa de entrada\n",
    "    model5.add(keras.layers.Flatten(input_shape = sz_image))\n",
    "\n",
    "    # Creamos una única capa oculta con 128 neuronas\n",
    "    model5.add(keras.layers.Dense(sz_hid_layer, activation = fun_hid_layer))\n",
    "\n",
    "    # Creamos la capa de salida\n",
    "    model5.add(keras.layers.Dense(5, activation = fun_output_layer))\n",
    "\n",
    "    # Modificamos los parámetros del modelo\n",
    "    model5.compile(loss=\"sparse_categorical_crossentropy\", optimizer = opt, metrics = metr, steps_per_execution = sz_batch)\n",
    "\n",
    "\n",
    "\n",
    "    ###########################################\n",
    "    # Ajuste del Modelo\n",
    "    ###########################################\n",
    "\n",
    "    adj_model5 = model5.fit(training_images, training_labels, epochs = ep, validation_data=(test_images, test_labels))\n",
    "    \n",
    "    ###########################################\n",
    "    # Evaluacion del Modelo\n",
    "    ###########################################\n",
    "\n",
    "    print(\"============================================================\")\n",
    "\n",
    "    # Evaluamos el modelo según los valores test que nos proporcionan\n",
    "    print(\"\\nEl accuracy de este modelo al evaluarlo es: {} \".format(model5.evaluate(test_images, test_labels)[1]))\n",
    "    \n",
    "except:\n",
    "    \n",
    "    print(\"Error\")"
   ]
  },
  {
   "cell_type": "markdown",
   "metadata": {
    "id": "SLsQcq-6aUoD"
   },
   "source": [
    "<b>Respuesta a la pregunta 6.1:</b>\n",
    "El modelo tiene 10 neuronas de salida ya que existen 10 etiquetas distintas, por lo que cada neurona evalúa si la imagen se puede clasificar como la etiqueta que representa."
   ]
  },
  {
   "cell_type": "markdown",
   "metadata": {
    "id": "J1f_7ZFeaUu6"
   },
   "source": [
    "<b>Respuesta a la pregunta 6.2:</b> Como se puede observar, si cambiamos las neuronas de la capa de salida por 5, no sabe como clasificar 10 etiquetas en 5 neuronas, por lo que lanza un error."
   ]
  },
  {
   "cell_type": "markdown",
   "metadata": {
    "id": "HNIBCkshaf2y"
   },
   "source": [
    "## 7: Aumento de epoch y su efecto en la red neuronal\n"
   ]
  },
  {
   "cell_type": "markdown",
   "metadata": {
    "id": "Yg8tTqYPuwGc"
   },
   "source": [
    "En este ejercicio vamos a ver el impacto de aumentar los epoch en el entrenamiento. Usando la red neuronal de la pregunta 1:\n",
    "\n",
    "**pregunta 7.1 (0.15 puntos)**\n",
    "* Intentad 15 epoch para su entrenamiento, probablemente obtendras un modelo con una pérdida mucho mejor que el que tiene 5.\n",
    "\n",
    "**pregunta 7.2 (0.15 puntos)**\n",
    "* Intenta ahora con 30 epoch para su entrenamiento, podrás ver que el valor de la pérdida deja de disminuir, y a veces aumenta.\n",
    "\n",
    "**pregunta 7.3 (0.20 puntos)**\n",
    "* ¿Por qué piensas que ocurre esto? Explica tu respuesta y da el nombre de este efecto si lo conoces."
   ]
  },
  {
   "cell_type": "code",
   "execution_count": 21,
   "metadata": {
    "id": "Cb5vk_imG4iZ"
   },
   "outputs": [
    {
     "name": "stdout",
     "output_type": "stream",
     "text": [
      "Epoch 1/15\n",
      "1875/1875 [==============================] - 2s 1ms/step - loss: 0.5427 - accuracy: 0.8148 - val_loss: 0.4560 - val_accuracy: 0.8377\n",
      "Epoch 2/15\n",
      "1875/1875 [==============================] - 1s 652us/step - loss: 0.3912 - accuracy: 0.8592 - val_loss: 0.4106 - val_accuracy: 0.8526\n",
      "Epoch 3/15\n",
      "1875/1875 [==============================] - 1s 579us/step - loss: 0.3534 - accuracy: 0.8728 - val_loss: 0.3805 - val_accuracy: 0.8659\n",
      "Epoch 4/15\n",
      "1875/1875 [==============================] - 1s 651us/step - loss: 0.3294 - accuracy: 0.8809 - val_loss: 0.3706 - val_accuracy: 0.8677\n",
      "Epoch 5/15\n",
      "1875/1875 [==============================] - 1s 605us/step - loss: 0.3103 - accuracy: 0.8875 - val_loss: 0.3657 - val_accuracy: 0.8683\n",
      "Epoch 6/15\n",
      "1875/1875 [==============================] - 1s 576us/step - loss: 0.2957 - accuracy: 0.8921 - val_loss: 0.3527 - val_accuracy: 0.8730\n",
      "Epoch 7/15\n",
      "1875/1875 [==============================] - 1s 584us/step - loss: 0.2822 - accuracy: 0.8970 - val_loss: 0.3461 - val_accuracy: 0.8754\n",
      "Epoch 8/15\n",
      "1875/1875 [==============================] - 1s 576us/step - loss: 0.2725 - accuracy: 0.8997 - val_loss: 0.3272 - val_accuracy: 0.8803\n",
      "Epoch 9/15\n",
      "1875/1875 [==============================] - 1s 666us/step - loss: 0.2608 - accuracy: 0.9044 - val_loss: 0.3218 - val_accuracy: 0.8843\n",
      "Epoch 10/15\n",
      "1875/1875 [==============================] - 1s 657us/step - loss: 0.2514 - accuracy: 0.9070 - val_loss: 0.3280 - val_accuracy: 0.8795\n",
      "Epoch 11/15\n",
      "1875/1875 [==============================] - 1s 734us/step - loss: 0.2433 - accuracy: 0.9104 - val_loss: 0.3448 - val_accuracy: 0.8757\n",
      "Epoch 12/15\n",
      "1875/1875 [==============================] - 1s 575us/step - loss: 0.2352 - accuracy: 0.9132 - val_loss: 0.3224 - val_accuracy: 0.8853\n",
      "Epoch 13/15\n",
      "1875/1875 [==============================] - 1s 605us/step - loss: 0.2282 - accuracy: 0.9151 - val_loss: 0.3203 - val_accuracy: 0.8878\n",
      "Epoch 14/15\n",
      "1875/1875 [==============================] - 1s 577us/step - loss: 0.2213 - accuracy: 0.9179 - val_loss: 0.3170 - val_accuracy: 0.8862\n",
      "Epoch 15/15\n",
      "1875/1875 [==============================] - 1s 589us/step - loss: 0.2128 - accuracy: 0.9214 - val_loss: 0.3230 - val_accuracy: 0.8872\n",
      "============================================================\n",
      "313/313 [==============================] - 0s 288us/step - loss: 0.3230 - accuracy: 0.8872\n",
      "\n",
      "El accuracy de este modelo al evaluarlo es: 0.8871999979019165 \n"
     ]
    }
   ],
   "source": [
    "###########################################\n",
    "# Creacion del Modelo\n",
    "###########################################\n",
    "\n",
    "# Creamos el modelo de Red Neuronal secuencial\n",
    "model6 = keras.models.Sequential()\n",
    "\n",
    "# Creamos la capa de entrada\n",
    "model6.add(keras.layers.Flatten(input_shape = sz_image))\n",
    "\n",
    "# Creamos una única capa oculta con 128 neuronas\n",
    "model6.add(keras.layers.Dense(sz_hid_layer, activation = fun_hid_layer))\n",
    "\n",
    "# Creamos la capa de salida\n",
    "model6.add(keras.layers.Dense(tags, activation = fun_output_layer))\n",
    "\n",
    "# Modificamos los parámetros del modelo\n",
    "model6.compile(loss=\"sparse_categorical_crossentropy\", optimizer = opt, metrics = metr, steps_per_execution = sz_batch)\n",
    "\n",
    "\n",
    "\n",
    "###########################################\n",
    "# Ajuste del Modelo\n",
    "###########################################\n",
    "\n",
    "adj_model6 = model6.fit(training_images, training_labels, epochs = 15, validation_data=(test_images, test_labels))\n",
    "\n",
    "###########################################\n",
    "# Evaluacion del Modelo\n",
    "###########################################\n",
    "\n",
    "print(\"============================================================\")\n",
    "\n",
    "# Evaluamos el modelo según los valores test que nos proporcionan\n",
    "print(\"\\nEl accuracy de este modelo al evaluarlo es: {} \".format(model6.evaluate(test_images, test_labels)[1]))"
   ]
  },
  {
   "cell_type": "code",
   "execution_count": 22,
   "metadata": {
    "id": "I9jQ26Gda5cv"
   },
   "outputs": [
    {
     "name": "stdout",
     "output_type": "stream",
     "text": [
      "Epoch 1/30\n",
      "1875/1875 [==============================] - 2s 1ms/step - loss: 0.5414 - accuracy: 0.8131 - val_loss: 0.4588 - val_accuracy: 0.8321\n",
      "Epoch 2/30\n",
      "1875/1875 [==============================] - 1s 601us/step - loss: 0.3934 - accuracy: 0.8575 - val_loss: 0.4034 - val_accuracy: 0.8536\n",
      "Epoch 3/30\n",
      "1875/1875 [==============================] - 1s 574us/step - loss: 0.3553 - accuracy: 0.8718 - val_loss: 0.3859 - val_accuracy: 0.8607\n",
      "Epoch 4/30\n",
      "1875/1875 [==============================] - 1s 585us/step - loss: 0.3305 - accuracy: 0.8791 - val_loss: 0.3720 - val_accuracy: 0.8639\n",
      "Epoch 5/30\n",
      "1875/1875 [==============================] - 1s 587us/step - loss: 0.3115 - accuracy: 0.8876 - val_loss: 0.3608 - val_accuracy: 0.8721\n",
      "Epoch 6/30\n",
      "1875/1875 [==============================] - 1s 613us/step - loss: 0.2975 - accuracy: 0.8915 - val_loss: 0.3612 - val_accuracy: 0.8680\n",
      "Epoch 7/30\n",
      "1875/1875 [==============================] - 1s 616us/step - loss: 0.2839 - accuracy: 0.8954 - val_loss: 0.3445 - val_accuracy: 0.8758\n",
      "Epoch 8/30\n",
      "1875/1875 [==============================] - 1s 641us/step - loss: 0.2725 - accuracy: 0.9001 - val_loss: 0.3421 - val_accuracy: 0.8764\n",
      "Epoch 9/30\n",
      "1875/1875 [==============================] - 1s 597us/step - loss: 0.2628 - accuracy: 0.9022 - val_loss: 0.3330 - val_accuracy: 0.8796\n",
      "Epoch 10/30\n",
      "1875/1875 [==============================] - 1s 593us/step - loss: 0.2542 - accuracy: 0.9053 - val_loss: 0.3341 - val_accuracy: 0.8784\n",
      "Epoch 11/30\n",
      "1875/1875 [==============================] - 1s 636us/step - loss: 0.2449 - accuracy: 0.9096 - val_loss: 0.3293 - val_accuracy: 0.8792\n",
      "Epoch 12/30\n",
      "1875/1875 [==============================] - 1s 670us/step - loss: 0.2366 - accuracy: 0.9134 - val_loss: 0.3318 - val_accuracy: 0.8783\n",
      "Epoch 13/30\n",
      "1875/1875 [==============================] - 1s 635us/step - loss: 0.2290 - accuracy: 0.9170 - val_loss: 0.3258 - val_accuracy: 0.8825\n",
      "Epoch 14/30\n",
      "1875/1875 [==============================] - 1s 572us/step - loss: 0.2226 - accuracy: 0.9185 - val_loss: 0.3253 - val_accuracy: 0.8816\n",
      "Epoch 15/30\n",
      "1875/1875 [==============================] - 1s 598us/step - loss: 0.2147 - accuracy: 0.9208 - val_loss: 0.3252 - val_accuracy: 0.8819\n",
      "Epoch 16/30\n",
      "1875/1875 [==============================] - 1s 598us/step - loss: 0.2102 - accuracy: 0.9223 - val_loss: 0.3198 - val_accuracy: 0.8864\n",
      "Epoch 17/30\n",
      "1875/1875 [==============================] - 1s 611us/step - loss: 0.2035 - accuracy: 0.9258 - val_loss: 0.3238 - val_accuracy: 0.8852\n",
      "Epoch 18/30\n",
      "1875/1875 [==============================] - 1s 593us/step - loss: 0.1971 - accuracy: 0.9276 - val_loss: 0.3238 - val_accuracy: 0.8841\n",
      "Epoch 19/30\n",
      "1875/1875 [==============================] - 1s 614us/step - loss: 0.1933 - accuracy: 0.9294 - val_loss: 0.3233 - val_accuracy: 0.8856\n",
      "Epoch 20/30\n",
      "1875/1875 [==============================] - 1s 623us/step - loss: 0.1885 - accuracy: 0.9307 - val_loss: 0.3259 - val_accuracy: 0.8846\n",
      "Epoch 21/30\n",
      "1875/1875 [==============================] - 1s 622us/step - loss: 0.1823 - accuracy: 0.9329 - val_loss: 0.3218 - val_accuracy: 0.8896\n",
      "Epoch 22/30\n",
      "1875/1875 [==============================] - 1s 610us/step - loss: 0.1771 - accuracy: 0.9352 - val_loss: 0.3223 - val_accuracy: 0.8867\n",
      "Epoch 23/30\n",
      "1875/1875 [==============================] - 1s 609us/step - loss: 0.1728 - accuracy: 0.9367 - val_loss: 0.3243 - val_accuracy: 0.8875\n",
      "Epoch 24/30\n",
      "1875/1875 [==============================] - 1s 620us/step - loss: 0.1690 - accuracy: 0.9380 - val_loss: 0.3274 - val_accuracy: 0.8871\n",
      "Epoch 25/30\n",
      "1875/1875 [==============================] - 1s 609us/step - loss: 0.1644 - accuracy: 0.9400 - val_loss: 0.3328 - val_accuracy: 0.8892\n",
      "Epoch 26/30\n",
      "1875/1875 [==============================] - 1s 612us/step - loss: 0.1599 - accuracy: 0.9425 - val_loss: 0.3291 - val_accuracy: 0.8894\n",
      "Epoch 27/30\n",
      "1875/1875 [==============================] - 1s 610us/step - loss: 0.1569 - accuracy: 0.9427 - val_loss: 0.3276 - val_accuracy: 0.8889\n",
      "Epoch 28/30\n",
      "1875/1875 [==============================] - 1s 623us/step - loss: 0.1513 - accuracy: 0.9452 - val_loss: 0.3252 - val_accuracy: 0.8902\n",
      "Epoch 29/30\n",
      "1875/1875 [==============================] - 1s 609us/step - loss: 0.1474 - accuracy: 0.9468 - val_loss: 0.3284 - val_accuracy: 0.8890\n",
      "Epoch 30/30\n",
      "1875/1875 [==============================] - 1s 621us/step - loss: 0.1455 - accuracy: 0.9464 - val_loss: 0.3387 - val_accuracy: 0.8861\n",
      "============================================================\n",
      "313/313 [==============================] - 0s 304us/step - loss: 0.3387 - accuracy: 0.8861\n",
      "\n",
      "El accuracy de este modelo al evaluarlo es: 0.8860999941825867 \n"
     ]
    }
   ],
   "source": [
    "###########################################\n",
    "# Creacion del Modelo\n",
    "###########################################\n",
    "\n",
    "# Creamos el modelo de Red Neuronal secuencial\n",
    "model7 = keras.models.Sequential()\n",
    "\n",
    "# Creamos la capa de entrada\n",
    "model7.add(keras.layers.Flatten(input_shape = sz_image))\n",
    "\n",
    "# Creamos una única capa oculta con 128 neuronas\n",
    "model7.add(keras.layers.Dense(sz_hid_layer, activation = fun_hid_layer))\n",
    "\n",
    "# Creamos la capa de salida\n",
    "model7.add(keras.layers.Dense(tags, activation = fun_output_layer))\n",
    "\n",
    "# Modificamos los parámetros del modelo\n",
    "model7.compile(loss=\"sparse_categorical_crossentropy\", optimizer = opt, metrics = metr, steps_per_execution = sz_batch)\n",
    "\n",
    "\n",
    "\n",
    "###########################################\n",
    "# Ajuste del Modelo\n",
    "###########################################\n",
    "\n",
    "adj_model7 = model7.fit(training_images, training_labels, epochs = 30, validation_data=(test_images, test_labels))\n",
    "\n",
    "###########################################\n",
    "# Evaluacion del Modelo\n",
    "###########################################\n",
    "\n",
    "print(\"============================================================\")\n",
    "\n",
    "# Evaluamos el modelo según los valores test que nos proporcionan\n",
    "print(\"\\nEl accuracy de este modelo al evaluarlo es: {} \".format(model7.evaluate(test_images, test_labels)[1]))"
   ]
  },
  {
   "cell_type": "markdown",
   "metadata": {
    "id": "Fs0fjzH4bmSR"
   },
   "source": [
    "<b>Respuesta a la pregunta 7.3:</b>\n",
    "Una red neuronal con más épocas (iteraciones) es capaz de realizar más veces el proceso de back propagation y es capaz de corregir el error mejor que una que tiene menos épocas. Aunque en este caso, el aumentar las épocas estamos variando el loss y el accuracy llegando a un sobreentrenar la red dando peores resultados."
   ]
  },
  {
   "cell_type": "markdown",
   "metadata": {
    "id": "HlIgNG4Yb_N6"
   },
   "source": [
    "## 8: Early stop\n"
   ]
  },
  {
   "cell_type": "markdown",
   "metadata": {
    "id": "06rrpDXqupAA"
   },
   "source": [
    "En el ejercicio anterior, cuando entrenabas con epoch extras, tenías un problema en el que tu pérdida podía cambiar. Puede que te haya llevado un poco de tiempo esperar a que el entrenamiento lo hiciera,  y puede que hayas pensado \"¿no estaría bien si pudiera parar el entrenamiento cuando alcance un valor deseado?\", es decir, una precisión del 85% podría ser suficiente para ti, y si alcanzas eso después de 3 epoch, ¿por qué sentarte a esperar a que termine muchas más épocas? Como cualquier otro programa existen formas de parar la ejecución\n",
    "\n",
    "A partir del código de ejemplo, hacer una nueva función que tenga en cuenta la perdida (loss) y que pueda parar el código para evitar que ocurra el efeto secundario que vimos en el ejercicio 5."
   ]
  },
  {
   "cell_type": "code",
   "execution_count": 24,
   "metadata": {
    "id": "b5UwceFUG4ic"
   },
   "outputs": [],
   "source": [
    "##### Ejemplo de código\n",
    "\n",
    "class myCallback(tf.keras.callbacks.Callback):\n",
    "      def on_epoch_end(self, epoch, logs={}):\n",
    "        if(logs.get('accuracy')> 0.85):\n",
    "              print(\"\\nAlcanzado el 85% de precisión, se cancela el entrenamiento!!\")\n",
    "              self.model.stop_training = True"
   ]
  },
  {
   "cell_type": "markdown",
   "metadata": {
    "id": "0Bjd8wGKccrn"
   },
   "source": [
    "**Ejercicio 8 *(0.75 puntos)***: Completa el siguiente código con una clase callback que una vez alcanzado el 40% de perdida detenga el entrenamiento."
   ]
  },
  {
   "cell_type": "code",
   "execution_count": 25,
   "metadata": {
    "id": "29LSfdOvc270"
   },
   "outputs": [
    {
     "name": "stdout",
     "output_type": "stream",
     "text": [
      "2.12.0\n",
      "Epoch 1/50\n",
      "1875/1875 [==============================] - 8s 4ms/step - loss: 0.4707 - accuracy: 0.8319\n",
      "Epoch 2/50\n",
      "1871/1875 [============================>.] - ETA: 0s - loss: 0.3594 - accuracy: 0.8689\n",
      "Alcanzado el 40% de loss, se cancela el entrenamiento!!\n",
      "1875/1875 [==============================] - 8s 4ms/step - loss: 0.3594 - accuracy: 0.8689\n"
     ]
    },
    {
     "data": {
      "text/plain": [
       "<keras.callbacks.History at 0x2616252bc50>"
      ]
     },
     "execution_count": 25,
     "metadata": {},
     "output_type": "execute_result"
    }
   ],
   "source": [
    "import tensorflow as tf\n",
    "print(tf.__version__)\n",
    "\n",
    "### Tu código de la función callback para parar el entrenamiento de la red neuronal al 40% de loss aqui: ###\n",
    "class myCallback(tf.keras.callbacks.Callback):\n",
    "      def on_epoch_end(self, epoch, logs={}):\n",
    "        if(logs.get('loss') <= 0.40):\n",
    "              print(\"\\nAlcanzado el 40% de loss, se cancela el entrenamiento!!\")\n",
    "              self.model.stop_training = True\n",
    "\n",
    "callbacks = myCallback()\n",
    "mnist = tf.keras.datasets.fashion_mnist\n",
    "(training_images, training_labels), (test_images, test_labels) = mnist.load_data()\n",
    "\n",
    "training_images = training_images/255.0\n",
    "test_images = test_images/255.0\n",
    "\n",
    "model8 = tf.keras.models.Sequential([tf.keras.layers.Flatten(),\n",
    "                                    tf.keras.layers.Dense(512, activation=tf.nn.relu),\n",
    "                                    tf.keras.layers.Dense(10, activation=tf.nn.softmax)])\n",
    "\n",
    "model8.compile(optimizer = 'adam',\n",
    "              loss = 'sparse_categorical_crossentropy',\n",
    "              metrics=['accuracy']) \n",
    "\n",
    "model8.fit(training_images, training_labels, epochs=50, callbacks=[callbacks])"
   ]
  },
  {
   "cell_type": "markdown",
   "metadata": {
    "id": "M_yZ9B8gTFqR"
   },
   "source": [
    "## 9. Unidades de activación"
   ]
  },
  {
   "cell_type": "markdown",
   "metadata": {
    "id": "MuVNxmXSTFqR"
   },
   "source": [
    "En este ejercicio, vamos a evaluar la importancia de utilizar las unidades de activación adecuadas. Como hemos visto en clase, funciones de activación como sigmoid han dejado de utilizarse en favor de otras unidades como ReLU.\n",
    "\n",
    "**Ejercicio 9 *(0.75 puntos)***: Partiendo de una red sencilla como la desarrollada en el Trabajo 1, escribir un breve análisis comparando la utilización de unidades sigmoid y ReLU (por ejemplo, se pueden comentar aspectos como velocidad de convergencia, métricas obtenidas...). Explicar por qué pueden darse estas diferencias. Opcionalmente, comparar con otras activaciones disponibles en Keras.\n",
    "\n",
    "*Pista: Usando redes más grandes se hace más sencillo apreciar las diferencias. Es mejor utilizar al menos 3 o 4 capas densas.*"
   ]
  },
  {
   "cell_type": "code",
   "execution_count": 26,
   "metadata": {
    "id": "hoYUajTuTFqS"
   },
   "outputs": [
    {
     "name": "stdout",
     "output_type": "stream",
     "text": [
      "Epoch 1/10\n",
      "1875/1875 [==============================] - 42s 23ms/step - loss: 0.5658 - accuracy: 0.7942 - val_loss: 0.4240 - val_accuracy: 0.8468\n",
      "Epoch 2/10\n",
      "1875/1875 [==============================] - 39s 21ms/step - loss: 0.3816 - accuracy: 0.8614 - val_loss: 0.3959 - val_accuracy: 0.8547\n",
      "Epoch 3/10\n",
      "1875/1875 [==============================] - 40s 21ms/step - loss: 0.3374 - accuracy: 0.8754 - val_loss: 0.3591 - val_accuracy: 0.8689\n",
      "Epoch 4/10\n",
      "1875/1875 [==============================] - 41s 22ms/step - loss: 0.3090 - accuracy: 0.8856 - val_loss: 0.3703 - val_accuracy: 0.8672\n",
      "Epoch 5/10\n",
      "1875/1875 [==============================] - 41s 22ms/step - loss: 0.2877 - accuracy: 0.8933 - val_loss: 0.3535 - val_accuracy: 0.8711\n",
      "Epoch 6/10\n",
      "1875/1875 [==============================] - 40s 21ms/step - loss: 0.2702 - accuracy: 0.8992 - val_loss: 0.3299 - val_accuracy: 0.8829\n",
      "Epoch 7/10\n",
      "1875/1875 [==============================] - 39s 21ms/step - loss: 0.2540 - accuracy: 0.9044 - val_loss: 0.3433 - val_accuracy: 0.8787\n",
      "Epoch 8/10\n",
      "1875/1875 [==============================] - 40s 21ms/step - loss: 0.2398 - accuracy: 0.9093 - val_loss: 0.3252 - val_accuracy: 0.8853\n",
      "Epoch 9/10\n",
      "1875/1875 [==============================] - 40s 22ms/step - loss: 0.2297 - accuracy: 0.9131 - val_loss: 0.3324 - val_accuracy: 0.8819\n",
      "Epoch 10/10\n",
      "1875/1875 [==============================] - 39s 21ms/step - loss: 0.2188 - accuracy: 0.9168 - val_loss: 0.3501 - val_accuracy: 0.8797\n",
      "============================================================\n",
      "313/313 [==============================] - 1s 3ms/step - loss: 0.3501 - accuracy: 0.8797\n",
      "\n",
      "El accuracy de este modelo al evaluarlo es: 0.8797000050544739 \n"
     ]
    }
   ],
   "source": [
    "###########################################\n",
    "# Creacion del Modelo\n",
    "###########################################\n",
    "\n",
    "# Creamos el modelo de Red Neuronal secuencial\n",
    "model9 = keras.models.Sequential()\n",
    "\n",
    "# Creamos la capa de entrada\n",
    "model9.add(keras.layers.Flatten(input_shape = sz_image))\n",
    "\n",
    "# Creamos una única capa oculta con 1024 neuronas\n",
    "model9.add(keras.layers.Dense(1024, activation = fun_hid_layer))\n",
    "\n",
    "# Creamos una única capa oculta con 1024 neuronas\n",
    "model9.add(keras.layers.Dense(1024, activation = fun_hid_layer))\n",
    "\n",
    "# Creamos una única capa oculta con 1024 neuronas\n",
    "model9.add(keras.layers.Dense(1024, activation = fun_hid_layer))\n",
    "\n",
    "# Creamos la capa de salida\n",
    "model9.add(keras.layers.Dense(tags, activation = fun_output_layer))\n",
    "\n",
    "# Modificamos los parámetros del modelo\n",
    "model9.compile(loss=\"sparse_categorical_crossentropy\", optimizer = opt, metrics = metr, steps_per_execution = sz_batch)\n",
    "\n",
    "\n",
    "\n",
    "###########################################\n",
    "# Ajuste del Modelo\n",
    "###########################################\n",
    "\n",
    "adj_model9 = model9.fit(training_images, training_labels, epochs = ep, validation_data=(test_images, test_labels))\n",
    "\n",
    "###########################################\n",
    "# Evaluacion del Modelo\n",
    "###########################################\n",
    "\n",
    "print(\"============================================================\")\n",
    "\n",
    "# Evaluamos el modelo según los valores test que nos proporcionan\n",
    "print(\"\\nEl accuracy de este modelo al evaluarlo es: {} \".format(model9.evaluate(test_images, test_labels)[1]))"
   ]
  },
  {
   "cell_type": "code",
   "execution_count": 27,
   "metadata": {},
   "outputs": [
    {
     "name": "stdout",
     "output_type": "stream",
     "text": [
      "Epoch 1/10\n",
      "1875/1875 [==============================] - 40s 21ms/step - loss: 0.4889 - accuracy: 0.8231 - val_loss: 0.4389 - val_accuracy: 0.8440\n",
      "Epoch 2/10\n",
      "1875/1875 [==============================] - 38s 20ms/step - loss: 0.3701 - accuracy: 0.8646 - val_loss: 0.4115 - val_accuracy: 0.8477\n",
      "Epoch 3/10\n",
      "1875/1875 [==============================] - 38s 20ms/step - loss: 0.3328 - accuracy: 0.8788 - val_loss: 0.3716 - val_accuracy: 0.8631\n",
      "Epoch 4/10\n",
      "1875/1875 [==============================] - 38s 21ms/step - loss: 0.3077 - accuracy: 0.8863 - val_loss: 0.3621 - val_accuracy: 0.8754\n",
      "Epoch 5/10\n",
      "1875/1875 [==============================] - 38s 20ms/step - loss: 0.2894 - accuracy: 0.8925 - val_loss: 0.3668 - val_accuracy: 0.8759\n",
      "Epoch 6/10\n",
      "1875/1875 [==============================] - 39s 21ms/step - loss: 0.2745 - accuracy: 0.8973 - val_loss: 0.3343 - val_accuracy: 0.8834\n",
      "Epoch 7/10\n",
      "1875/1875 [==============================] - 39s 21ms/step - loss: 0.2607 - accuracy: 0.9024 - val_loss: 0.3550 - val_accuracy: 0.8756\n",
      "Epoch 8/10\n",
      "1875/1875 [==============================] - 38s 20ms/step - loss: 0.2535 - accuracy: 0.9038 - val_loss: 0.3557 - val_accuracy: 0.8805\n",
      "Epoch 9/10\n",
      "1875/1875 [==============================] - 38s 20ms/step - loss: 0.2435 - accuracy: 0.9073 - val_loss: 0.3962 - val_accuracy: 0.8758\n",
      "Epoch 10/10\n",
      "1875/1875 [==============================] - 39s 21ms/step - loss: 0.2334 - accuracy: 0.9107 - val_loss: 0.3808 - val_accuracy: 0.8768\n",
      "============================================================\n",
      "313/313 [==============================] - 1s 3ms/step - loss: 0.3808 - accuracy: 0.8768\n",
      "\n",
      "El accuracy de este modelo al evaluarlo es: 0.876800000667572 \n"
     ]
    }
   ],
   "source": [
    "###########################################\n",
    "# Creacion del Modelo\n",
    "###########################################\n",
    "\n",
    "# Creamos el modelo de Red Neuronal secuencial\n",
    "model10 = keras.models.Sequential()\n",
    "\n",
    "# Creamos la capa de entrada\n",
    "model10.add(keras.layers.Flatten(input_shape = sz_image))\n",
    "\n",
    "# Creamos una única capa oculta con 1024 neuronas\n",
    "model10.add(keras.layers.Dense(1024, activation = \"relu\"))\n",
    "\n",
    "# Creamos una única capa oculta con 1024 neuronas\n",
    "model10.add(keras.layers.Dense(1024, activation = \"relu\"))\n",
    "\n",
    "# Creamos una única capa oculta con 1024 neuronas\n",
    "model10.add(keras.layers.Dense(1024, activation = \"relu\"))\n",
    "\n",
    "# Creamos la capa de salida\n",
    "model10.add(keras.layers.Dense(tags, activation = fun_output_layer))\n",
    "\n",
    "# Modificamos los parámetros del modelo\n",
    "model10.compile(loss=\"sparse_categorical_crossentropy\", optimizer = opt, metrics = metr, steps_per_execution = sz_batch)\n",
    "\n",
    "\n",
    "\n",
    "###########################################\n",
    "# Ajuste del Modelo\n",
    "###########################################\n",
    "\n",
    "adj_model10 = model10.fit(training_images, training_labels, epochs = ep, validation_data=(test_images, test_labels))\n",
    "\n",
    "###########################################\n",
    "# Evaluacion del Modelo\n",
    "###########################################\n",
    "\n",
    "print(\"============================================================\")\n",
    "\n",
    "# Evaluamos el modelo según los valores test que nos proporcionan\n",
    "print(\"\\nEl accuracy de este modelo al evaluarlo es: {} \".format(model10.evaluate(test_images, test_labels)[1]))"
   ]
  },
  {
   "cell_type": "markdown",
   "metadata": {},
   "source": [
    "<b>Respuesta a la pregunta 9:</b>\n",
    "\n",
    "- La función sigmoid es: $$ f(x) = { e^x \\over e^x + 1} $$\n",
    "\n",
    "- La función reLU es: $$ g(x) = max(0,x) $$\n",
    "\n",
    "Concretamente, hay dos principales diferencias:\n",
    "\n",
    "* La función reLU es objetivamente más sencilla de computar, mientras que la sigmoide es menos sencilla por el número de operaciones que realizan. Esto se ve en los segundos de computación de cada época. \n",
    "\n",
    "* El accuracy con la función reLU es menor que con la función sigmoide. Esto puede haberse dado porque la función sigmoide escala (encuentra patrones) de forma más suave/lenta que la la reLU. Se refleja en las tasas de pérdida donde una decrementa exponencialmente, mientras que la otra decrementa de forma lineal."
   ]
  },
  {
   "cell_type": "markdown",
   "metadata": {
    "id": "pu6RbUFKTFqT"
   },
   "source": [
    "## 10. Inicialización de parámetros"
   ]
  },
  {
   "cell_type": "markdown",
   "metadata": {
    "id": "Abmm05UPTFqU"
   },
   "source": [
    "En este ejercicio, vamos a evaluar la importancia de una correcta inicialización de parámetros en una red neuronal.\n",
    "\n",
    "**Ejercicio 10 *(0.75 puntos)***: Partiendo de una red similar a la del ejercicio anterior (usando ya ReLUs), comentar las diferencias que se aprecian en el entrenamiento al utilizar distintas estrategias de inicialización de parámetros. Para ello, inicializar todas las capas con las siguientes estrategias, disponibles en Keras, y analizar sus diferencias:\n",
    "\n",
    "* Inicialización con ceros.\n",
    "* Inicialización con una variable aleatoria normal.\n",
    "* Inicialización con los valores por defecto de Keras para una capa Dense (estrategia *glorot uniform*)"
   ]
  },
  {
   "cell_type": "code",
   "execution_count": 31,
   "metadata": {
    "id": "qcMt7pSkTFqU"
   },
   "outputs": [
    {
     "name": "stdout",
     "output_type": "stream",
     "text": [
      "Epoch 1/10\n",
      "1875/1875 [==============================] - 41s 22ms/step - loss: 2.3027 - accuracy: 0.0983 - val_loss: 2.3027 - val_accuracy: 0.1000\n",
      "Epoch 2/10\n",
      "1875/1875 [==============================] - 38s 20ms/step - loss: 2.3028 - accuracy: 0.0996 - val_loss: 2.3026 - val_accuracy: 0.1000\n",
      "Epoch 3/10\n",
      "1875/1875 [==============================] - 38s 20ms/step - loss: 2.3028 - accuracy: 0.0982 - val_loss: 2.3026 - val_accuracy: 0.1000\n",
      "Epoch 4/10\n",
      "1875/1875 [==============================] - 41s 22ms/step - loss: 2.3028 - accuracy: 0.0994 - val_loss: 2.3027 - val_accuracy: 0.1000\n",
      "Epoch 5/10\n",
      "1875/1875 [==============================] - 41s 22ms/step - loss: 2.3028 - accuracy: 0.1001 - val_loss: 2.3026 - val_accuracy: 0.1000\n",
      "Epoch 6/10\n",
      "1875/1875 [==============================] - 42s 22ms/step - loss: 2.3028 - accuracy: 0.0972 - val_loss: 2.3026 - val_accuracy: 0.1000\n",
      "Epoch 7/10\n",
      "1875/1875 [==============================] - 39s 21ms/step - loss: 2.3028 - accuracy: 0.0972 - val_loss: 2.3026 - val_accuracy: 0.1000\n",
      "Epoch 8/10\n",
      "1875/1875 [==============================] - 41s 22ms/step - loss: 2.3028 - accuracy: 0.0981 - val_loss: 2.3027 - val_accuracy: 0.1000\n",
      "Epoch 9/10\n",
      "1875/1875 [==============================] - 42s 22ms/step - loss: 2.3028 - accuracy: 0.0976 - val_loss: 2.3027 - val_accuracy: 0.1000\n",
      "Epoch 10/10\n",
      "1875/1875 [==============================] - 38s 20ms/step - loss: 2.3028 - accuracy: 0.0977 - val_loss: 2.3026 - val_accuracy: 0.1000\n",
      "============================================================\n",
      "313/313 [==============================] - 1s 3ms/step - loss: 2.3026 - accuracy: 0.1000\n",
      "\n",
      "El accuracy de este modelo al evaluarlo es: 0.10000000149011612 \n"
     ]
    }
   ],
   "source": [
    "###########################################\n",
    "# Creacion del Modelo\n",
    "###########################################\n",
    "\n",
    "# Creamos el modelo de Red Neuronal secuencial\n",
    "model11 = keras.models.Sequential()\n",
    "\n",
    "# Creamos la capa de entrada\n",
    "model11.add(keras.layers.Flatten(input_shape = sz_image))\n",
    "\n",
    "# Creamos una única capa oculta con 1024 neuronas\n",
    "model11.add(keras.layers.Dense(1024, activation = \"relu\", kernel_initializer=initializers.Zeros()))\n",
    "\n",
    "# Creamos una única capa oculta con 1024 neuronas\n",
    "model11.add(keras.layers.Dense(1024, activation = \"relu\", kernel_initializer=initializers.Zeros()))\n",
    "\n",
    "# Creamos una única capa oculta con 1024 neuronas\n",
    "model11.add(keras.layers.Dense(1024, activation = \"relu\", kernel_initializer=initializers.Zeros()))\n",
    "\n",
    "# Creamos la capa de salida\n",
    "model11.add(keras.layers.Dense(tags, activation = fun_output_layer, kernel_initializer=initializers.Zeros()))\n",
    "\n",
    "# Modificamos los parámetros del modelo\n",
    "model11.compile(loss=\"sparse_categorical_crossentropy\", optimizer = opt, metrics = metr, steps_per_execution = sz_batch)\n",
    "\n",
    "\n",
    "\n",
    "###########################################\n",
    "# Ajuste del Modelo\n",
    "###########################################\n",
    "\n",
    "adj_model11 = model11.fit(training_images, training_labels, epochs = ep, validation_data=(test_images, test_labels))\n",
    "\n",
    "###########################################\n",
    "# Evaluacion del Modelo\n",
    "###########################################\n",
    "\n",
    "print(\"============================================================\")\n",
    "\n",
    "# Evaluamos el modelo según los valores test que nos proporcionan\n",
    "print(\"\\nEl accuracy de este modelo al evaluarlo es: {} \".format(model11.evaluate(test_images, test_labels)[1]))"
   ]
  },
  {
   "cell_type": "code",
   "execution_count": 32,
   "metadata": {},
   "outputs": [
    {
     "name": "stdout",
     "output_type": "stream",
     "text": [
      "Epoch 1/10\n",
      "1875/1875 [==============================] - 39s 21ms/step - loss: 0.4803 - accuracy: 0.8254 - val_loss: 0.4283 - val_accuracy: 0.8475\n",
      "Epoch 2/10\n",
      "1875/1875 [==============================] - 38s 20ms/step - loss: 0.3677 - accuracy: 0.8652 - val_loss: 0.3809 - val_accuracy: 0.8607\n",
      "Epoch 3/10\n",
      "1875/1875 [==============================] - 40s 22ms/step - loss: 0.3319 - accuracy: 0.8780 - val_loss: 0.3949 - val_accuracy: 0.8549\n",
      "Epoch 4/10\n",
      "1875/1875 [==============================] - 39s 21ms/step - loss: 0.3072 - accuracy: 0.8861 - val_loss: 0.3682 - val_accuracy: 0.8685\n",
      "Epoch 5/10\n",
      "1875/1875 [==============================] - 41s 22ms/step - loss: 0.2887 - accuracy: 0.8930 - val_loss: 0.3660 - val_accuracy: 0.8709\n",
      "Epoch 6/10\n",
      "1875/1875 [==============================] - 39s 21ms/step - loss: 0.2774 - accuracy: 0.8976 - val_loss: 0.3555 - val_accuracy: 0.8749\n",
      "Epoch 7/10\n",
      "1875/1875 [==============================] - 39s 21ms/step - loss: 0.2635 - accuracy: 0.9013 - val_loss: 0.3394 - val_accuracy: 0.8859\n",
      "Epoch 8/10\n",
      "1875/1875 [==============================] - 39s 21ms/step - loss: 0.2506 - accuracy: 0.9061 - val_loss: 0.3589 - val_accuracy: 0.8807\n",
      "Epoch 9/10\n",
      "1875/1875 [==============================] - 40s 21ms/step - loss: 0.2449 - accuracy: 0.9081 - val_loss: 0.3629 - val_accuracy: 0.8824\n",
      "Epoch 10/10\n",
      "1875/1875 [==============================] - 39s 21ms/step - loss: 0.2329 - accuracy: 0.9125 - val_loss: 0.3470 - val_accuracy: 0.8821\n",
      "============================================================\n",
      "313/313 [==============================] - 1s 3ms/step - loss: 0.3470 - accuracy: 0.8821\n",
      "\n",
      "El accuracy de este modelo al evaluarlo es: 0.882099986076355 \n"
     ]
    }
   ],
   "source": [
    "###########################################\n",
    "# Creacion del Modelo\n",
    "###########################################\n",
    "\n",
    "# Creamos el modelo de Red Neuronal secuencial\n",
    "model12 = keras.models.Sequential()\n",
    "\n",
    "# Creamos la capa de entrada\n",
    "model12.add(keras.layers.Flatten(input_shape = sz_image))\n",
    "\n",
    "# Creamos una única capa oculta con 1024 neuronas\n",
    "model12.add(keras.layers.Dense(1024, activation = \"relu\", kernel_initializer=initializers.RandomNormal()))\n",
    "\n",
    "# Creamos una única capa oculta con 1024 neuronas\n",
    "model12.add(keras.layers.Dense(1024, activation = \"relu\", kernel_initializer=initializers.RandomNormal()))\n",
    "\n",
    "# Creamos una única capa oculta con 1024 neuronas\n",
    "model12.add(keras.layers.Dense(1024, activation = \"relu\", kernel_initializer=initializers.RandomNormal()))\n",
    "\n",
    "# Creamos la capa de salida\n",
    "model12.add(keras.layers.Dense(tags, activation = fun_output_layer, kernel_initializer=initializers.RandomNormal()))\n",
    "\n",
    "# Modificamos los parámetros del modelo\n",
    "model12.compile(loss=\"sparse_categorical_crossentropy\", optimizer = opt, metrics = metr, steps_per_execution = sz_batch)\n",
    "\n",
    "\n",
    "\n",
    "###########################################\n",
    "# Ajuste del Modelo\n",
    "###########################################\n",
    "\n",
    "adj_model12 = model12.fit(training_images, training_labels, epochs = ep, validation_data=(test_images, test_labels))\n",
    "\n",
    "###########################################\n",
    "# Evaluacion del Modelo\n",
    "###########################################\n",
    "\n",
    "print(\"============================================================\")\n",
    "\n",
    "# Evaluamos el modelo según los valores test que nos proporcionan\n",
    "print(\"\\nEl accuracy de este modelo al evaluarlo es: {} \".format(model12.evaluate(test_images, test_labels)[1]))"
   ]
  },
  {
   "cell_type": "code",
   "execution_count": 33,
   "metadata": {},
   "outputs": [
    {
     "name": "stdout",
     "output_type": "stream",
     "text": [
      "Epoch 1/10\n",
      "1875/1875 [==============================] - 40s 21ms/step - loss: 0.4879 - accuracy: 0.8230 - val_loss: 0.4474 - val_accuracy: 0.8422\n",
      "Epoch 2/10\n",
      "1875/1875 [==============================] - 38s 20ms/step - loss: 0.3686 - accuracy: 0.8652 - val_loss: 0.3934 - val_accuracy: 0.8607\n",
      "Epoch 3/10\n",
      "1875/1875 [==============================] - 38s 20ms/step - loss: 0.3345 - accuracy: 0.8762 - val_loss: 0.3732 - val_accuracy: 0.8646\n",
      "Epoch 4/10\n",
      "1875/1875 [==============================] - 39s 21ms/step - loss: 0.3078 - accuracy: 0.8863 - val_loss: 0.3527 - val_accuracy: 0.8750\n",
      "Epoch 5/10\n",
      "1875/1875 [==============================] - 39s 21ms/step - loss: 0.2926 - accuracy: 0.8921 - val_loss: 0.3759 - val_accuracy: 0.8749\n",
      "Epoch 6/10\n",
      "1875/1875 [==============================] - 38s 21ms/step - loss: 0.2754 - accuracy: 0.8973 - val_loss: 0.3378 - val_accuracy: 0.8795\n",
      "Epoch 7/10\n",
      "1875/1875 [==============================] - 40s 21ms/step - loss: 0.2677 - accuracy: 0.9003 - val_loss: 0.3395 - val_accuracy: 0.8774\n",
      "Epoch 8/10\n",
      "1875/1875 [==============================] - 38s 20ms/step - loss: 0.2534 - accuracy: 0.9042 - val_loss: 0.3440 - val_accuracy: 0.8808\n",
      "Epoch 9/10\n",
      "1875/1875 [==============================] - 39s 21ms/step - loss: 0.2434 - accuracy: 0.9085 - val_loss: 0.3292 - val_accuracy: 0.8870\n",
      "Epoch 10/10\n",
      "1875/1875 [==============================] - 39s 21ms/step - loss: 0.2348 - accuracy: 0.9123 - val_loss: 0.3457 - val_accuracy: 0.8879\n",
      "============================================================\n",
      "313/313 [==============================] - 1s 3ms/step - loss: 0.3457 - accuracy: 0.8879\n",
      "\n",
      "El accuracy de este modelo al evaluarlo es: 0.8878999948501587 \n"
     ]
    }
   ],
   "source": [
    "###########################################\n",
    "# Creacion del Modelo\n",
    "###########################################\n",
    "\n",
    "# Creamos el modelo de Red Neuronal secuencial\n",
    "model13 = keras.models.Sequential()\n",
    "\n",
    "# Creamos la capa de entrada\n",
    "model13.add(keras.layers.Flatten(input_shape = sz_image))\n",
    "\n",
    "# Creamos una única capa oculta con 1024 neuronas\n",
    "model13.add(keras.layers.Dense(1024, activation = \"relu\", kernel_initializer=initializers.GlorotUniform()))\n",
    "\n",
    "# Creamos una única capa oculta con 1024 neuronas\n",
    "model13.add(keras.layers.Dense(1024, activation = \"relu\", kernel_initializer=initializers.GlorotUniform()))\n",
    "\n",
    "# Creamos una única capa oculta con 1024 neuronas\n",
    "model13.add(keras.layers.Dense(1024, activation = \"relu\", kernel_initializer=initializers.GlorotUniform()))\n",
    "\n",
    "# Creamos la capa de salida\n",
    "model13.add(keras.layers.Dense(tags, activation = fun_output_layer, kernel_initializer=initializers.GlorotUniform()))\n",
    "\n",
    "# Modificamos los parámetros del modelo\n",
    "model13.compile(loss=\"sparse_categorical_crossentropy\", optimizer = opt, metrics = metr, steps_per_execution = sz_batch)\n",
    "\n",
    "\n",
    "\n",
    "###########################################\n",
    "# Ajuste del Modelo\n",
    "###########################################\n",
    "\n",
    "adj_model13 = model13.fit(training_images, training_labels, epochs = ep, validation_data=(test_images, test_labels))\n",
    "\n",
    "###########################################\n",
    "# Evaluacion del Modelo\n",
    "###########################################\n",
    "\n",
    "print(\"============================================================\")\n",
    "\n",
    "# Evaluamos el modelo según los valores test que nos proporcionan\n",
    "print(\"\\nEl accuracy de este modelo al evaluarlo es: {} \".format(model13.evaluate(test_images, test_labels)[1]))"
   ]
  },
  {
   "cell_type": "markdown",
   "metadata": {},
   "source": [
    "<b>Respuesta a la pregunta 10:</b>\n",
    "* La inicialización con ceros es pésima ya que la tasa de pérdida es muy grande y se mantiene constante, y el accuracy decrementa conforme va avanzando las épocas. Esto significa que no encuentra patrones porque la inicialización es muy mala.\n",
    "* La inicialización con distribución normal y con distribución Glorot Uniforme son bastante mejor ya que el accuracy final es cercano al 90% en ambos casos. La diferencia es que una inicializa los pesos de manera uniforme, mientras que la otra trabaja con una distribución normal."
   ]
  },
  {
   "cell_type": "markdown",
   "metadata": {
    "id": "NqIAyVWrTFqV"
   },
   "source": [
    "## 11. Optimizadores"
   ]
  },
  {
   "cell_type": "markdown",
   "metadata": {
    "id": "lcYj29hYTFqW"
   },
   "source": [
    "**Ejercicio 11 *(0.75 puntos)***: Partiendo de una red similar a la del ejercicio anterior (utilizando la mejor estrategia de inicialización observada), comparar y analizar las diferencias que se observan  al entrenar con varios de los optimizadores vistos en clase, incluyendo SGD como optimizador básico (se puede explorar el espacio de hiperparámetros de cada optimizador, aunque para optimizadores más avanzados del estilo de adam y RMSprop es buena idea dejar los valores por defecto provistos por Keras)."
   ]
  },
  {
   "cell_type": "code",
   "execution_count": 36,
   "metadata": {
    "id": "0fWDiqXvTFqW"
   },
   "outputs": [
    {
     "name": "stdout",
     "output_type": "stream",
     "text": [
      "Epoch 1/10\n",
      "1875/1875 [==============================] - 17s 9ms/step - loss: 0.6672 - accuracy: 0.7764 - val_loss: 0.5073 - val_accuracy: 0.8205\n",
      "Epoch 2/10\n",
      "1875/1875 [==============================] - 16s 9ms/step - loss: 0.4525 - accuracy: 0.8401 - val_loss: 0.4443 - val_accuracy: 0.8400\n",
      "Epoch 3/10\n",
      "1875/1875 [==============================] - 16s 9ms/step - loss: 0.4069 - accuracy: 0.8561 - val_loss: 0.4277 - val_accuracy: 0.8456\n",
      "Epoch 4/10\n",
      "1875/1875 [==============================] - 16s 9ms/step - loss: 0.3771 - accuracy: 0.8651 - val_loss: 0.4272 - val_accuracy: 0.8407\n",
      "Epoch 5/10\n",
      "1875/1875 [==============================] - 17s 9ms/step - loss: 0.3549 - accuracy: 0.8739 - val_loss: 0.3794 - val_accuracy: 0.8662\n",
      "Epoch 6/10\n",
      "1875/1875 [==============================] - 17s 9ms/step - loss: 0.3370 - accuracy: 0.8788 - val_loss: 0.3789 - val_accuracy: 0.8627\n",
      "Epoch 7/10\n",
      "1875/1875 [==============================] - 17s 9ms/step - loss: 0.3217 - accuracy: 0.8852 - val_loss: 0.3744 - val_accuracy: 0.8645\n",
      "Epoch 8/10\n",
      "1875/1875 [==============================] - 19s 10ms/step - loss: 0.3089 - accuracy: 0.8886 - val_loss: 0.3605 - val_accuracy: 0.8702\n",
      "Epoch 9/10\n",
      "1875/1875 [==============================] - 17s 9ms/step - loss: 0.2976 - accuracy: 0.8925 - val_loss: 0.3614 - val_accuracy: 0.8663\n",
      "Epoch 10/10\n",
      "1875/1875 [==============================] - 16s 9ms/step - loss: 0.2869 - accuracy: 0.8959 - val_loss: 0.3503 - val_accuracy: 0.8713\n",
      "============================================================\n",
      "313/313 [==============================] - 1s 3ms/step - loss: 0.3503 - accuracy: 0.8713\n",
      "\n",
      "El accuracy de este modelo al evaluarlo es: 0.8712999820709229 \n"
     ]
    }
   ],
   "source": [
    "###########################################\n",
    "# Creacion del Modelo\n",
    "###########################################\n",
    "\n",
    "# Creamos el modelo de Red Neuronal secuencial\n",
    "model14 = keras.models.Sequential()\n",
    "\n",
    "# Creamos la capa de entrada\n",
    "model14.add(keras.layers.Flatten(input_shape = sz_image))\n",
    "\n",
    "# Creamos una única capa oculta con 1024 neuronas\n",
    "model14.add(keras.layers.Dense(1024, activation = \"relu\", kernel_initializer=initializers.GlorotUniform()))\n",
    "\n",
    "# Creamos una única capa oculta con 1024 neuronas\n",
    "model14.add(keras.layers.Dense(1024, activation = \"relu\", kernel_initializer=initializers.GlorotUniform()))\n",
    "\n",
    "# Creamos una única capa oculta con 1024 neuronas\n",
    "model14.add(keras.layers.Dense(1024, activation = \"relu\", kernel_initializer=initializers.GlorotUniform()))\n",
    "\n",
    "# Creamos la capa de salida\n",
    "model14.add(keras.layers.Dense(tags, activation = fun_output_layer, kernel_initializer=initializers.GlorotUniform()))\n",
    "\n",
    "# Modificamos los parámetros del modelo\n",
    "model14.compile(loss=\"sparse_categorical_crossentropy\", optimizer = \"SGD\", metrics = metr, steps_per_execution = sz_batch)\n",
    "\n",
    "\n",
    "\n",
    "###########################################\n",
    "# Ajuste del Modelo\n",
    "###########################################\n",
    "\n",
    "adj_model14 = model14.fit(training_images, training_labels, epochs = ep, validation_data=(test_images, test_labels))\n",
    "\n",
    "###########################################\n",
    "# Evaluacion del Modelo\n",
    "###########################################\n",
    "\n",
    "print(\"============================================================\")\n",
    "\n",
    "# Evaluamos el modelo según los valores test que nos proporcionan\n",
    "print(\"\\nEl accuracy de este modelo al evaluarlo es: {} \".format(model14.evaluate(test_images, test_labels)[1]))"
   ]
  },
  {
   "cell_type": "code",
   "execution_count": 37,
   "metadata": {},
   "outputs": [
    {
     "name": "stdout",
     "output_type": "stream",
     "text": [
      "Epoch 1/10\n",
      "1875/1875 [==============================] - 34s 18ms/step - loss: 0.5360 - accuracy: 0.8059 - val_loss: 0.4957 - val_accuracy: 0.8493\n",
      "Epoch 2/10\n",
      "1875/1875 [==============================] - 31s 17ms/step - loss: 0.4190 - accuracy: 0.8538 - val_loss: 0.4352 - val_accuracy: 0.8527\n",
      "Epoch 3/10\n",
      "1875/1875 [==============================] - 32s 17ms/step - loss: 0.4013 - accuracy: 0.8632 - val_loss: 0.3971 - val_accuracy: 0.8689\n",
      "Epoch 4/10\n",
      "1875/1875 [==============================] - 31s 17ms/step - loss: 0.3925 - accuracy: 0.8660 - val_loss: 0.4262 - val_accuracy: 0.8625\n",
      "Epoch 5/10\n",
      "1875/1875 [==============================] - 31s 17ms/step - loss: 0.3825 - accuracy: 0.8698 - val_loss: 0.5085 - val_accuracy: 0.8501\n",
      "Epoch 6/10\n",
      "1875/1875 [==============================] - 31s 17ms/step - loss: 0.3801 - accuracy: 0.8730 - val_loss: 0.5945 - val_accuracy: 0.8449\n",
      "Epoch 7/10\n",
      "1875/1875 [==============================] - 33s 18ms/step - loss: 0.3857 - accuracy: 0.8709 - val_loss: 0.4404 - val_accuracy: 0.8559\n",
      "Epoch 8/10\n",
      "1875/1875 [==============================] - 33s 18ms/step - loss: 0.3884 - accuracy: 0.8738 - val_loss: 0.5461 - val_accuracy: 0.8261\n",
      "Epoch 9/10\n",
      "1875/1875 [==============================] - 33s 17ms/step - loss: 0.3885 - accuracy: 0.8741 - val_loss: 0.6155 - val_accuracy: 0.8635\n",
      "Epoch 10/10\n",
      "1875/1875 [==============================] - 32s 17ms/step - loss: 0.3899 - accuracy: 0.8733 - val_loss: 0.4555 - val_accuracy: 0.8627\n",
      "============================================================\n",
      "313/313 [==============================] - 1s 3ms/step - loss: 0.4555 - accuracy: 0.8627\n",
      "\n",
      "El accuracy de este modelo al evaluarlo es: 0.8626999855041504 \n"
     ]
    }
   ],
   "source": [
    "###########################################\n",
    "# Creacion del Modelo\n",
    "###########################################\n",
    "\n",
    "# Creamos el modelo de Red Neuronal secuencial\n",
    "model15 = keras.models.Sequential()\n",
    "\n",
    "# Creamos la capa de entrada\n",
    "model15.add(keras.layers.Flatten(input_shape = sz_image))\n",
    "\n",
    "# Creamos una única capa oculta con 1024 neuronas\n",
    "model15.add(keras.layers.Dense(1024, activation = \"relu\", kernel_initializer=initializers.GlorotUniform()))\n",
    "\n",
    "# Creamos una única capa oculta con 1024 neuronas\n",
    "model15.add(keras.layers.Dense(1024, activation = \"relu\", kernel_initializer=initializers.GlorotUniform()))\n",
    "\n",
    "# Creamos una única capa oculta con 1024 neuronas\n",
    "model15.add(keras.layers.Dense(1024, activation = \"relu\", kernel_initializer=initializers.GlorotUniform()))\n",
    "\n",
    "# Creamos la capa de salida\n",
    "model15.add(keras.layers.Dense(tags, activation = fun_output_layer, kernel_initializer=initializers.GlorotUniform()))\n",
    "\n",
    "# Modificamos los parámetros del modelo\n",
    "model15.compile(loss=\"sparse_categorical_crossentropy\", optimizer = \"RMSprop\", metrics = metr, steps_per_execution = sz_batch)\n",
    "\n",
    "\n",
    "\n",
    "###########################################\n",
    "# Ajuste del Modelo\n",
    "###########################################\n",
    "\n",
    "adj_model15 = model15.fit(training_images, training_labels, epochs = ep, validation_data=(test_images, test_labels))\n",
    "\n",
    "###########################################\n",
    "# Evaluacion del Modelo\n",
    "###########################################\n",
    "\n",
    "print(\"============================================================\")\n",
    "\n",
    "# Evaluamos el modelo según los valores test que nos proporcionan\n",
    "print(\"\\nEl accuracy de este modelo al evaluarlo es: {} \".format(model15.evaluate(test_images, test_labels)[1]))"
   ]
  },
  {
   "cell_type": "markdown",
   "metadata": {},
   "source": [
    "<b>Respuesta a la pregunta 11:</b>\n",
    "- El optimizador Adam es el que mejor funciona de los tres, pero el que mayor tiempo tarda en cada época. Dicho optimizador se basa en la optimización del método de descenso del gradiente de forma estocástica mediante los momentos de primer y segundo orden.\n",
    "- El optimizador SGD se basa en el método de descenso del gradiente común, por ese mismo motivo es el optimizador que menor tiempo tiempo por cada época.\n",
    "- El optimizador RMSprop utiliza una optimización del método de descenso del gradiente basado en el algoritmo de RMSprop."
   ]
  },
  {
   "cell_type": "markdown",
   "metadata": {
    "id": "BkfTFoJOTFqZ"
   },
   "source": [
    "## 12. Regularización y red final "
   ]
  },
  {
   "cell_type": "markdown",
   "metadata": {
    "id": "f6CQhK7ZTFqZ"
   },
   "source": [
    "**Ejercicio 12 *(1 punto)***: Entrenar una red final que sea capaz de obtener una accuracy en el validation set cercana al 90%. Para ello, combinar todo lo aprendido anteriormente y utilizar técnicas de regularización para evitar overfitting. Algunos de los elementos que pueden tenerse en cuenta son los siguientes.\n",
    "\n",
    "* Número de capas y neuronas por capa\n",
    "* Optimizadores y sus parámetros\n",
    "* Batch size\n",
    "* Unidades de activación\n",
    "* Uso de capas dropout, regularización L2, regularización L1...\n",
    "* Early stopping (se puede aplicar como un callback de Keras, o se puede ver un poco \"a ojo\" cuándo el modelo empieza a caer en overfitting y seleccionar el número de epochs necesarias)\n",
    "* Batch normalization\n",
    "\n",
    "Si los modelos entrenados anteriormente ya se acercaban al valor requerido de accuracy, probar distintas estrategias igualmente y comentar los resultados.\n",
    "\n",
    "Explicar brevemente la estrategia seguida y los modelos probados para obtener el modelo final, que debe verse entrenado en este Notebook. No es necesario guardar el entrenamiento de todos los modelos que se han probado, es suficiente con explicar cómo se ha llegado al modelo final."
   ]
  },
  {
   "cell_type": "code",
   "execution_count": 73,
   "metadata": {},
   "outputs": [
    {
     "name": "stdout",
     "output_type": "stream",
     "text": [
      "313/313 [==============================] - 0s 259us/step - loss: 0.3290 - accuracy: 0.8810\n",
      "313/313 [==============================] - 0s 642us/step - loss: 0.3271 - accuracy: 0.8850\n",
      "313/313 [==============================] - 0s 1ms/step - loss: 0.3161 - accuracy: 0.8919\n",
      "313/313 [==============================] - 0s 272us/step - loss: 0.3230 - accuracy: 0.8872\n",
      "313/313 [==============================] - 0s 262us/step - loss: 0.3387 - accuracy: 0.8861\n",
      "313/313 [==============================] - 1s 2ms/step - loss: 0.4074 - accuracy: 0.8549\n",
      "313/313 [==============================] - 1s 3ms/step - loss: 0.3501 - accuracy: 0.8797\n",
      "313/313 [==============================] - 1s 3ms/step - loss: 0.3808 - accuracy: 0.8768\n",
      "313/313 [==============================] - 1s 3ms/step - loss: 2.3026 - accuracy: 0.1000\n",
      "313/313 [==============================] - 1s 3ms/step - loss: 0.3470 - accuracy: 0.8821\n",
      "313/313 [==============================] - 1s 3ms/step - loss: 0.3457 - accuracy: 0.8879\n",
      "313/313 [==============================] - 1s 3ms/step - loss: 0.3503 - accuracy: 0.8713\n",
      "313/313 [==============================] - 1s 3ms/step - loss: 0.4555 - accuracy: 0.8627\n"
     ]
    }
   ],
   "source": [
    "###########################################\n",
    "# Investigacion\n",
    "###########################################\n",
    "\n",
    "ls_loss, ls_acc = [], []\n",
    "\n",
    "x,y = model.evaluate(test_images, test_labels)\n",
    "ls_loss.append(x)\n",
    "ls_acc.append(y)\n",
    "\n",
    "x,y = model2.evaluate(test_images, test_labels)\n",
    "ls_loss.append(x)\n",
    "ls_acc.append(y)\n",
    "\n",
    "x,y = model3.evaluate(test_images, test_labels)\n",
    "ls_loss.append(x)\n",
    "ls_acc.append(y)\n",
    "\n",
    "ls_loss.append(0)\n",
    "ls_acc.append(0)\n",
    "\n",
    "ls_loss.append(0)\n",
    "ls_acc.append(0)\n",
    "\n",
    "x,y = model6.evaluate(test_images, test_labels)\n",
    "ls_loss.append(x)\n",
    "ls_acc.append(y)\n",
    "\n",
    "x,y = model7.evaluate(test_images, test_labels)\n",
    "ls_loss.append(x)\n",
    "ls_acc.append(y)\n",
    "\n",
    "x,y = model8.evaluate(test_images, test_labels)\n",
    "ls_loss.append(x)\n",
    "ls_acc.append(y)\n",
    "\n",
    "x,y = model9.evaluate(test_images, test_labels)\n",
    "ls_loss.append(x)\n",
    "ls_acc.append(y)\n",
    "\n",
    "x,y = model10.evaluate(test_images, test_labels)\n",
    "ls_loss.append(x)\n",
    "ls_acc.append(y)\n",
    "\n",
    "x,y = model11.evaluate(test_images, test_labels)\n",
    "ls_loss.append(x)\n",
    "ls_acc.append(y)\n",
    "\n",
    "x,y = model12.evaluate(test_images, test_labels)\n",
    "ls_loss.append(x)\n",
    "ls_acc.append(y)\n",
    "\n",
    "x,y = model13.evaluate(test_images, test_labels)\n",
    "ls_loss.append(x)\n",
    "ls_acc.append(y)\n",
    "\n",
    "x,y = model14.evaluate(test_images, test_labels)\n",
    "ls_loss.append(x)\n",
    "ls_acc.append(y)\n",
    "\n",
    "x,y = model15.evaluate(test_images, test_labels)\n",
    "ls_loss.append(x)\n",
    "ls_acc.append(y)   "
   ]
  },
  {
   "cell_type": "code",
   "execution_count": 74,
   "metadata": {},
   "outputs": [
    {
     "data": {
      "text/html": [
       "<div>\n",
       "<style scoped>\n",
       "    .dataframe tbody tr th:only-of-type {\n",
       "        vertical-align: middle;\n",
       "    }\n",
       "\n",
       "    .dataframe tbody tr th {\n",
       "        vertical-align: top;\n",
       "    }\n",
       "\n",
       "    .dataframe thead th {\n",
       "        text-align: right;\n",
       "    }\n",
       "</style>\n",
       "<table border=\"1\" class=\"dataframe\">\n",
       "  <thead>\n",
       "    <tr style=\"text-align: right;\">\n",
       "      <th></th>\n",
       "      <th>Loss</th>\n",
       "      <th>Accuracy</th>\n",
       "    </tr>\n",
       "  </thead>\n",
       "  <tbody>\n",
       "    <tr>\n",
       "      <th>model</th>\n",
       "      <td>0.329032</td>\n",
       "      <td>0.8810</td>\n",
       "    </tr>\n",
       "    <tr>\n",
       "      <th>model2</th>\n",
       "      <td>0.327065</td>\n",
       "      <td>0.8850</td>\n",
       "    </tr>\n",
       "    <tr>\n",
       "      <th>model3</th>\n",
       "      <td>0.316116</td>\n",
       "      <td>0.8919</td>\n",
       "    </tr>\n",
       "    <tr>\n",
       "      <th>model4</th>\n",
       "      <td>0.000000</td>\n",
       "      <td>0.0000</td>\n",
       "    </tr>\n",
       "    <tr>\n",
       "      <th>model5</th>\n",
       "      <td>0.000000</td>\n",
       "      <td>0.0000</td>\n",
       "    </tr>\n",
       "    <tr>\n",
       "      <th>model6</th>\n",
       "      <td>0.323021</td>\n",
       "      <td>0.8872</td>\n",
       "    </tr>\n",
       "    <tr>\n",
       "      <th>model7</th>\n",
       "      <td>0.338702</td>\n",
       "      <td>0.8861</td>\n",
       "    </tr>\n",
       "    <tr>\n",
       "      <th>model8</th>\n",
       "      <td>0.407391</td>\n",
       "      <td>0.8549</td>\n",
       "    </tr>\n",
       "    <tr>\n",
       "      <th>model9</th>\n",
       "      <td>0.350058</td>\n",
       "      <td>0.8797</td>\n",
       "    </tr>\n",
       "    <tr>\n",
       "      <th>model10</th>\n",
       "      <td>0.380771</td>\n",
       "      <td>0.8768</td>\n",
       "    </tr>\n",
       "    <tr>\n",
       "      <th>model11</th>\n",
       "      <td>2.302608</td>\n",
       "      <td>0.1000</td>\n",
       "    </tr>\n",
       "    <tr>\n",
       "      <th>model12</th>\n",
       "      <td>0.347041</td>\n",
       "      <td>0.8821</td>\n",
       "    </tr>\n",
       "    <tr>\n",
       "      <th>model13</th>\n",
       "      <td>0.345723</td>\n",
       "      <td>0.8879</td>\n",
       "    </tr>\n",
       "    <tr>\n",
       "      <th>model14</th>\n",
       "      <td>0.350294</td>\n",
       "      <td>0.8713</td>\n",
       "    </tr>\n",
       "    <tr>\n",
       "      <th>model15</th>\n",
       "      <td>0.455548</td>\n",
       "      <td>0.8627</td>\n",
       "    </tr>\n",
       "  </tbody>\n",
       "</table>\n",
       "</div>"
      ],
      "text/plain": [
       "             Loss  Accuracy\n",
       "model    0.329032    0.8810\n",
       "model2   0.327065    0.8850\n",
       "model3   0.316116    0.8919\n",
       "model4   0.000000    0.0000\n",
       "model5   0.000000    0.0000\n",
       "model6   0.323021    0.8872\n",
       "model7   0.338702    0.8861\n",
       "model8   0.407391    0.8549\n",
       "model9   0.350058    0.8797\n",
       "model10  0.380771    0.8768\n",
       "model11  2.302608    0.1000\n",
       "model12  0.347041    0.8821\n",
       "model13  0.345723    0.8879\n",
       "model14  0.350294    0.8713\n",
       "model15  0.455548    0.8627"
      ]
     },
     "metadata": {},
     "output_type": "display_data"
    }
   ],
   "source": [
    "model_table = pd.DataFrame({\"Loss\": ls_loss, \"Accuracy\": ls_acc}, index = [\"model\", \"model2\", \"model3\", \"model4\", \"model5\", \"model6\", \"model7\", \"model8\", \"model9\", \"model10\", \"model11\", \"model12\", \"model13\", \"model14\", \"model15\"])\n",
    "display(model_table)"
   ]
  },
  {
   "cell_type": "code",
   "execution_count": 83,
   "metadata": {
    "id": "AUJ5AtunTFqa"
   },
   "outputs": [
    {
     "name": "stdout",
     "output_type": "stream",
     "text": [
      "Epoch 1/10\n",
      "1875/1875 [==============================] - 38s 20ms/step - loss: 0.5633 - accuracy: 0.7927 - val_loss: 0.4082 - val_accuracy: 0.8525\n",
      "Epoch 2/10\n",
      "1875/1875 [==============================] - 36s 19ms/step - loss: 0.3826 - accuracy: 0.8602 - val_loss: 0.4033 - val_accuracy: 0.8544\n",
      "Epoch 3/10\n",
      "1875/1875 [==============================] - 37s 19ms/step - loss: 0.3367 - accuracy: 0.8766 - val_loss: 0.3868 - val_accuracy: 0.8596\n",
      "Epoch 4/10\n",
      "1875/1875 [==============================] - 36s 19ms/step - loss: 0.3098 - accuracy: 0.8850 - val_loss: 0.3423 - val_accuracy: 0.8774\n",
      "Epoch 5/10\n",
      "1875/1875 [==============================] - 37s 20ms/step - loss: 0.2865 - accuracy: 0.8937 - val_loss: 0.3598 - val_accuracy: 0.8756\n",
      "Epoch 6/10\n",
      "1875/1875 [==============================] - 36s 19ms/step - loss: 0.2697 - accuracy: 0.8984 - val_loss: 0.3374 - val_accuracy: 0.8815\n",
      "Epoch 7/10\n",
      "1875/1875 [==============================] - 37s 19ms/step - loss: 0.2533 - accuracy: 0.9042 - val_loss: 0.3658 - val_accuracy: 0.8729\n",
      "Epoch 8/10\n",
      "1875/1875 [==============================] - 37s 19ms/step - loss: 0.2407 - accuracy: 0.9091 - val_loss: 0.3515 - val_accuracy: 0.8717\n",
      "Epoch 9/10\n",
      "1875/1875 [==============================] - 37s 19ms/step - loss: 0.2265 - accuracy: 0.9130 - val_loss: 0.3126 - val_accuracy: 0.8893\n",
      "Epoch 10/10\n",
      "1875/1875 [==============================] - 37s 20ms/step - loss: 0.2157 - accuracy: 0.9176 - val_loss: 0.3430 - val_accuracy: 0.8859\n",
      "============================================================\n",
      "313/313 [==============================] - 1s 3ms/step - loss: 0.3430 - accuracy: 0.8859\n",
      "\n",
      "El accuracy de este modelo al evaluarlo es: 0.8859000205993652 \n"
     ]
    }
   ],
   "source": [
    "###########################################\n",
    "# Creacion del Modelo\n",
    "###########################################\n",
    "\n",
    "_seed = 528\n",
    "\n",
    "# Creamos el modelo de Red Neuronal secuencial\n",
    "model16 = keras.models.Sequential()\n",
    "\n",
    "# Creamos la capa de entrada\n",
    "model16.add(keras.layers.Flatten(input_shape = sz_image))\n",
    "\n",
    "# Creamos una única capa oculta con 1024 neuronas\n",
    "model16.add(keras.layers.Dense(1024, activation = fun_hid_layer, kernel_initializer=initializers.GlorotUniform(seed=_seed)))\n",
    "\n",
    "# Creamos una única capa oculta con 1024 neuronas\n",
    "model16.add(keras.layers.Dense(1024, activation = fun_hid_layer, kernel_initializer=initializers.GlorotUniform(seed=_seed)))\n",
    "\n",
    "# Creamos una única capa oculta con 1024 neuronas\n",
    "model16.add(keras.layers.Dense(1024, activation = fun_hid_layer, kernel_initializer=initializers.GlorotUniform(seed=_seed)))\n",
    "\n",
    "# Creamos la capa de salida\n",
    "model16.add(keras.layers.Dense(tags, activation = fun_output_layer, kernel_initializer=initializers.GlorotUniform(seed=_seed)))\n",
    "\n",
    "# Modificamos los parámetros del modelo\n",
    "model16.compile(loss=\"sparse_categorical_crossentropy\", optimizer = \"Adam\", metrics = metr, steps_per_execution = sz_batch)\n",
    "\n",
    "\n",
    "\n",
    "###########################################\n",
    "# Ajuste del Modelo\n",
    "###########################################\n",
    "\n",
    "adj_model16 = model16.fit(training_images, training_labels, epochs = 10, validation_data=(test_images, test_labels))\n",
    "\n",
    "###########################################\n",
    "# Evaluacion del Modelo\n",
    "###########################################\n",
    "\n",
    "print(\"============================================================\")\n",
    "\n",
    "# Evaluamos el modelo según los valores test que nos proporcionan\n",
    "print(\"\\nEl accuracy de este modelo al evaluarlo es: {} \".format(model16.evaluate(test_images, test_labels)[1]))"
   ]
  },
  {
   "cell_type": "markdown",
   "metadata": {},
   "source": [
    "<b>Respuesta a la pregunta 12:</b>\n",
    "Para poder realizar una óptima red neuronal, he realizado primero un estudio comparando todos los modelos que se han ejecutado para saber de que modelo partir. Una vez realizado dicho estudio, he escogido el modelo 3 planteado en el código que contiene el modelo original con 1024 neuronas y una capa oculta.\n",
    "\n",
    "Posteriormente, le he agregado dos capas ocultas más (para mejorar el rendimiento) y le he puesto el initializer Glorot Uniform (que, mediante comparación con los demás optimizadores, se ha escogido por su accuracy). Todo esto se ha ido probando con varios modelos hasta encontrar el mejor. El principal problema que se ha encontrado es el descontrol de la inicializacion al no probar con una seed fija, ya que con el mismo modelo se ha llegado a accuracy entre 0,88 y 0.92 en varias ejecuciones, por lo tanto, se ha ido probando al final seed fijas."
   ]
  }
 ],
 "metadata": {
  "colab": {
   "provenance": []
  },
  "kernelspec": {
   "display_name": "Python 3 (ipykernel)",
   "language": "python",
   "name": "python3"
  },
  "language_info": {
   "codemirror_mode": {
    "name": "ipython",
    "version": 3
   },
   "file_extension": ".py",
   "mimetype": "text/x-python",
   "name": "python",
   "nbconvert_exporter": "python",
   "pygments_lexer": "ipython3",
   "version": "3.11.0"
  }
 },
 "nbformat": 4,
 "nbformat_minor": 1
}
